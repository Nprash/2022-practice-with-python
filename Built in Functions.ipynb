{
 "cells": [
  {
   "cell_type": "markdown",
   "id": "10609df3",
   "metadata": {},
   "source": [
    "## Python All Built in Functions\n",
    " - There are 69 built in functions\n",
    "     - By Alphabetical Order \n",
    "     - 08-02-2022"
   ]
  },
  {
   "cell_type": "code",
   "execution_count": 55,
   "id": "977db712",
   "metadata": {},
   "outputs": [
    {
     "data": {
      "text/plain": [
       "['In',\n",
       " 'Out',\n",
       " '_',\n",
       " '_1',\n",
       " '_10',\n",
       " '_11',\n",
       " '_12',\n",
       " '_13',\n",
       " '_14',\n",
       " '_15',\n",
       " '_16',\n",
       " '_17',\n",
       " '_18',\n",
       " '_2',\n",
       " '_25',\n",
       " '_3',\n",
       " '_38',\n",
       " '_4',\n",
       " '_5',\n",
       " '_6',\n",
       " '_7',\n",
       " '_8',\n",
       " '_9',\n",
       " '__',\n",
       " '___',\n",
       " '__builtin__',\n",
       " '__builtins__',\n",
       " '__doc__',\n",
       " '__loader__',\n",
       " '__name__',\n",
       " '__package__',\n",
       " '__spec__',\n",
       " '_dh',\n",
       " '_i',\n",
       " '_i1',\n",
       " '_i10',\n",
       " '_i11',\n",
       " '_i12',\n",
       " '_i13',\n",
       " '_i14',\n",
       " '_i15',\n",
       " '_i16',\n",
       " '_i17',\n",
       " '_i18',\n",
       " '_i19',\n",
       " '_i2',\n",
       " '_i20',\n",
       " '_i21',\n",
       " '_i22',\n",
       " '_i23',\n",
       " '_i24',\n",
       " '_i25',\n",
       " '_i26',\n",
       " '_i27',\n",
       " '_i28',\n",
       " '_i29',\n",
       " '_i3',\n",
       " '_i30',\n",
       " '_i31',\n",
       " '_i32',\n",
       " '_i33',\n",
       " '_i34',\n",
       " '_i35',\n",
       " '_i36',\n",
       " '_i37',\n",
       " '_i38',\n",
       " '_i39',\n",
       " '_i4',\n",
       " '_i40',\n",
       " '_i41',\n",
       " '_i42',\n",
       " '_i43',\n",
       " '_i44',\n",
       " '_i45',\n",
       " '_i46',\n",
       " '_i47',\n",
       " '_i48',\n",
       " '_i49',\n",
       " '_i5',\n",
       " '_i50',\n",
       " '_i51',\n",
       " '_i52',\n",
       " '_i53',\n",
       " '_i54',\n",
       " '_i55',\n",
       " '_i6',\n",
       " '_i7',\n",
       " '_i8',\n",
       " '_i9',\n",
       " '_ih',\n",
       " '_ii',\n",
       " '_iii',\n",
       " '_oh',\n",
       " 'exit',\n",
       " 'get_ipython',\n",
       " 'i',\n",
       " 'li',\n",
       " 'multiples_of_6',\n",
       " 'quit']"
      ]
     },
     "execution_count": 55,
     "metadata": {},
     "output_type": "execute_result"
    }
   ],
   "source": [
    "dir( ) # it gives used data"
   ]
  },
  {
   "cell_type": "markdown",
   "id": "462e2cac",
   "metadata": {},
   "source": [
    "### 1 - abs()  function:\n",
    "     - Returns the absolute value of a number. The argument may be an integer or float, if the argument is a complex its magnitude is returned\n",
    " - in mathematics the **absolute value** or **modulus**|x| of a real number **x** is the non-negative value of x without regard to its sign.Namely, |x|=x, |-x|=x"
   ]
  },
  {
   "cell_type": "code",
   "execution_count": 5,
   "id": "98e9bed3",
   "metadata": {},
   "outputs": [
    {
     "data": {
      "text/plain": [
       "6.4031242374328485"
      ]
     },
     "execution_count": 5,
     "metadata": {},
     "output_type": "execute_result"
    }
   ],
   "source": [
    "# abs() function\n",
    "# gives absolute value\n",
    "abs(-1) #  gives 1\n",
    "abs(4+5j) # 4+5i => |a+bi|= root over(A square + B square);; squareroot of 41=6.40"
   ]
  },
  {
   "cell_type": "code",
   "execution_count": 23,
   "id": "39f842c9",
   "metadata": {},
   "outputs": [
    {
     "data": {
      "text/plain": [
       "7348"
      ]
     },
     "execution_count": 23,
     "metadata": {},
     "output_type": "execute_result"
    }
   ],
   "source": [
    "abs(-7348) # if u give negative it gives positive output"
   ]
  },
  {
   "cell_type": "code",
   "execution_count": 56,
   "id": "7fd270b4",
   "metadata": {},
   "outputs": [
    {
     "data": {
      "text/plain": [
       "23.5"
      ]
     },
     "execution_count": 56,
     "metadata": {},
     "output_type": "execute_result"
    }
   ],
   "source": [
    "abs(23.5)"
   ]
  },
  {
   "cell_type": "code",
   "execution_count": 57,
   "id": "5490669f",
   "metadata": {},
   "outputs": [
    {
     "data": {
      "text/plain": [
       "34.7"
      ]
     },
     "execution_count": 57,
     "metadata": {},
     "output_type": "execute_result"
    }
   ],
   "source": [
    "abs(-34.7)"
   ]
  },
  {
   "cell_type": "code",
   "execution_count": 58,
   "id": "1a4d70d0",
   "metadata": {},
   "outputs": [
    {
     "ename": "TypeError",
     "evalue": "bad operand type for abs(): 'list'",
     "output_type": "error",
     "traceback": [
      "\u001b[1;31m---------------------------------------------------------------------------\u001b[0m",
      "\u001b[1;31mTypeError\u001b[0m                                 Traceback (most recent call last)",
      "\u001b[1;32m~\\AppData\\Local\\Temp/ipykernel_8016/742787119.py\u001b[0m in \u001b[0;36m<module>\u001b[1;34m\u001b[0m\n\u001b[0;32m      1\u001b[0m \u001b[0mli\u001b[0m\u001b[1;33m=\u001b[0m\u001b[1;33m[\u001b[0m\u001b[1;36m1\u001b[0m\u001b[1;33m,\u001b[0m\u001b[1;36m2\u001b[0m\u001b[1;33m,\u001b[0m\u001b[1;36m3\u001b[0m\u001b[1;33m,\u001b[0m\u001b[1;33m-\u001b[0m\u001b[1;36m1\u001b[0m\u001b[1;33m,\u001b[0m\u001b[1;33m-\u001b[0m\u001b[1;36m2\u001b[0m\u001b[1;33m,\u001b[0m\u001b[1;33m-\u001b[0m\u001b[1;36m3\u001b[0m\u001b[1;33m]\u001b[0m\u001b[1;33m\u001b[0m\u001b[1;33m\u001b[0m\u001b[0m\n\u001b[1;32m----> 2\u001b[1;33m \u001b[0mabs\u001b[0m\u001b[1;33m(\u001b[0m\u001b[0mli\u001b[0m\u001b[1;33m)\u001b[0m\u001b[1;33m\u001b[0m\u001b[1;33m\u001b[0m\u001b[0m\n\u001b[0m",
      "\u001b[1;31mTypeError\u001b[0m: bad operand type for abs(): 'list'"
     ]
    }
   ],
   "source": [
    "li=[1,2,3,-1,-2,-3]\n",
    "abs(li) # cant give absolute valuse of a list"
   ]
  },
  {
   "cell_type": "code",
   "execution_count": 60,
   "id": "e1907a8a",
   "metadata": {},
   "outputs": [
    {
     "data": {
      "text/plain": [
       "[1, 2, 3, 1, 2, 3]"
      ]
     },
     "execution_count": 60,
     "metadata": {},
     "output_type": "execute_result"
    }
   ],
   "source": [
    "newli=[abs(i) for i in li] # here list can converts absolute of list\n",
    "newli"
   ]
  },
  {
   "cell_type": "markdown",
   "id": "0968fd1e",
   "metadata": {},
   "source": [
    "### 2 - all()  function:\n",
    "\n",
    "     - any and all are useful when you can rely on the \"truthiness\" of values - i.e. their value in a boolean context. 1 is True and 0 is False,\n",
    "<img src=\"truthy table.JPG\" style=\"float:left\">"
   ]
  },
  {
   "cell_type": "code",
   "execution_count": 16,
   "id": "4b142354",
   "metadata": {},
   "outputs": [
    {
     "data": {
      "text/plain": [
       "True"
      ]
     },
     "execution_count": 16,
     "metadata": {},
     "output_type": "execute_result"
    }
   ],
   "source": [
    "all([]) # if you give nothing or empty list gives true"
   ]
  },
  {
   "cell_type": "code",
   "execution_count": 17,
   "id": "eda57950",
   "metadata": {},
   "outputs": [
    {
     "data": {
      "text/plain": [
       "True"
      ]
     },
     "execution_count": 17,
     "metadata": {},
     "output_type": "execute_result"
    }
   ],
   "source": [
    "all([1,2,3,4]) # if u give numbers it gives true bcz numbers are True, and '0' is false"
   ]
  },
  {
   "cell_type": "code",
   "execution_count": 18,
   "id": "a147d343",
   "metadata": {},
   "outputs": [
    {
     "data": {
      "text/plain": [
       "False"
      ]
     },
     "execution_count": 18,
     "metadata": {},
     "output_type": "execute_result"
    }
   ],
   "source": [
    "all([0,0,0,0]) # if you give zeros means false it gives False"
   ]
  },
  {
   "cell_type": "code",
   "execution_count": 19,
   "id": "930b739a",
   "metadata": {},
   "outputs": [
    {
     "data": {
      "text/plain": [
       "False"
      ]
     },
     "execution_count": 19,
     "metadata": {},
     "output_type": "execute_result"
    }
   ],
   "source": [
    "all([1,2,0])"
   ]
  },
  {
   "cell_type": "code",
   "execution_count": 20,
   "id": "fc02a13e",
   "metadata": {},
   "outputs": [
    {
     "data": {
      "text/plain": [
       "True"
      ]
     },
     "execution_count": 20,
     "metadata": {},
     "output_type": "execute_result"
    }
   ],
   "source": [
    "all([True,True,True])"
   ]
  },
  {
   "cell_type": "code",
   "execution_count": 21,
   "id": "6ba9d343",
   "metadata": {},
   "outputs": [
    {
     "data": {
      "text/plain": [
       "False"
      ]
     },
     "execution_count": 21,
     "metadata": {},
     "output_type": "execute_result"
    }
   ],
   "source": [
    "all([False,True,True])"
   ]
  },
  {
   "cell_type": "code",
   "execution_count": 22,
   "id": "db7b2948",
   "metadata": {},
   "outputs": [
    {
     "data": {
      "text/plain": [
       "False"
      ]
     },
     "execution_count": 22,
     "metadata": {},
     "output_type": "execute_result"
    }
   ],
   "source": [
    "all([True,True,False])"
   ]
  },
  {
   "cell_type": "code",
   "execution_count": 26,
   "id": "f9adb90f",
   "metadata": {},
   "outputs": [
    {
     "data": {
      "text/plain": [
       "False"
      ]
     },
     "execution_count": 26,
     "metadata": {},
     "output_type": "execute_result"
    }
   ],
   "source": [
    "def all(iterable):\n",
    "    for item in iterable:\n",
    "        if not item:\n",
    "            return False\n",
    "    return True\n",
    "all([1,2,3,4,0])"
   ]
  },
  {
   "cell_type": "code",
   "execution_count": 28,
   "id": "84dff6cc",
   "metadata": {},
   "outputs": [
    {
     "name": "stdout",
     "output_type": "stream",
     "text": [
      "[True, True, False] #all elements of the last tuple are not true\n"
     ]
    }
   ],
   "source": [
    "M =[(1, 1), (5, 6), (0, 0)]\n",
    "print([all(x) for x in M],\"#all elements of the last tuple are not true\") ##all elements of the last tuple are not true"
   ]
  },
  {
   "cell_type": "code",
   "execution_count": 30,
   "id": "a385356d",
   "metadata": {},
   "outputs": [
    {
     "name": "stdout",
     "output_type": "stream",
     "text": [
      "[False, False, True] #NOT operator applied\n"
     ]
    }
   ],
   "source": [
    "M =[(1, 1), (5, 6), (0, 0)]\n",
    "print([not all(x) for x in M],\"#NOT operator applied\")#NOT operator applied here "
   ]
  },
  {
   "cell_type": "code",
   "execution_count": 32,
   "id": "3604dedd",
   "metadata": {},
   "outputs": [
    {
     "name": "stdout",
     "output_type": "stream",
     "text": [
      "[True, True, False] #only the last tuple does not have any true element\n"
     ]
    }
   ],
   "source": [
    "M =[(1, 1), (5, 6), (0, 0)]\n",
    "print([any(x) for x in M],\"#only the last tuple does not have any true element\")"
   ]
  },
  {
   "cell_type": "code",
   "execution_count": 33,
   "id": "e7564305",
   "metadata": {},
   "outputs": [
    {
     "name": "stdout",
     "output_type": "stream",
     "text": [
      "[False, False, False]\n"
     ]
    }
   ],
   "source": [
    "print([any(x)  and not all(x) for x in M]) #AND operator applied to 1) and 3)\n",
    "# if we had M =[(1, 1), (5, 6), (1, 0)], we could get [False, False, True]  in 4)\n",
    "# because the last tuple satisfies both conditions: any of its elements is TRUE \n",
    "#and not all elements are TRUE "
   ]
  },
  {
   "cell_type": "markdown",
   "id": "4d63c1c8",
   "metadata": {},
   "source": [
    "### 3 . any()  function:\n",
    " - The way \"any\" works is that it checks for elements to be True (so it can return True), then it returnsFalseif none of them wereTrue.\n",
    " \n",
    " <img src= \"truthy table.JPG\" style=\"float:left\">"
   ]
  },
  {
   "cell_type": "code",
   "execution_count": 38,
   "id": "6be10335",
   "metadata": {},
   "outputs": [
    {
     "name": "stdout",
     "output_type": "stream",
     "text": [
      "True\n"
     ]
    },
    {
     "data": {
      "text/plain": [
       "[False, False, False]"
      ]
     },
     "execution_count": 38,
     "metadata": {},
     "output_type": "execute_result"
    }
   ],
   "source": [
    "multiples_of_6 = (not (i % 6) for i in range(1, 10))   #not is a logical operator,returns true,if an expression evaluates vise versa\n",
    "print(any(multiples_of_6)) # if any remainder equals to 6  it gives true,if you put \"not\" it makes sense\n",
    "#print(all(multiples_of_6)) # here all numbers to divisble by 6,then only it gives true else gives false\n",
    "list(multiples_of_6)  "
   ]
  },
  {
   "cell_type": "code",
   "execution_count": 26,
   "id": "057d2828",
   "metadata": {},
   "outputs": [
    {
     "name": "stdout",
     "output_type": "stream",
     "text": [
      "False\n"
     ]
    }
   ],
   "source": [
    "multiples_of_6 = ( (i % 6) for i in range(1, 10))\n",
    "print(all(multiples_of_6))"
   ]
  },
  {
   "cell_type": "code",
   "execution_count": 43,
   "id": "4bd2038b",
   "metadata": {},
   "outputs": [
    {
     "name": "stdout",
     "output_type": "stream",
     "text": [
      "6 "
     ]
    }
   ],
   "source": [
    "for i in range(1,10):\n",
    "    if i % 6==0:\n",
    "        print(i,end=\" \")"
   ]
  },
  {
   "cell_type": "code",
   "execution_count": 50,
   "id": "ad624f73",
   "metadata": {},
   "outputs": [
    {
     "name": "stdout",
     "output_type": "stream",
     "text": [
      "1 2 3 4 5 7 8 9 "
     ]
    }
   ],
   "source": [
    "for i in range(1,10):\n",
    "    if not i % 6==0:\n",
    "        print(i,end=  \" \")"
   ]
  },
  {
   "cell_type": "code",
   "execution_count": 53,
   "id": "14e35458",
   "metadata": {},
   "outputs": [
    {
     "name": "stdout",
     "output_type": "stream",
     "text": [
      "True\n",
      "False\n"
     ]
    }
   ],
   "source": [
    "li=[1,2,3,4,5,0]\n",
    "print(any(li))\n",
    "print(all(li))"
   ]
  },
  {
   "cell_type": "code",
   "execution_count": 62,
   "id": "03a9ba34",
   "metadata": {},
   "outputs": [
    {
     "data": {
      "text/plain": [
       "True"
      ]
     },
     "execution_count": 62,
     "metadata": {},
     "output_type": "execute_result"
    }
   ],
   "source": [
    "any([])\n",
    "all([])"
   ]
  },
  {
   "cell_type": "code",
   "execution_count": 63,
   "id": "db44cef9",
   "metadata": {},
   "outputs": [
    {
     "name": "stdout",
     "output_type": "stream",
     "text": [
      "Key = USA, Value = Washington D.C.\n",
      "Key = France, Value = Paris\n",
      "Key = India, Value = New Delhi\n"
     ]
    }
   ],
   "source": [
    "capitals = {\"USA\":\"Washington D.C.\", \"France\":\"Paris\", \"India\":\"New Delhi\"}\n",
    "\n",
    "for key in capitals:\n",
    "    print(\"Key = \" + key + \", Value = \" + capitals[key]) "
   ]
  },
  {
   "cell_type": "code",
   "execution_count": 1,
   "id": "95f30455",
   "metadata": {},
   "outputs": [
    {
     "name": "stdout",
     "output_type": "stream",
     "text": [
      "Hello       World!\n"
     ]
    }
   ],
   "source": [
    "print('Hello  \\\n",
    "     World!') "
   ]
  },
  {
   "cell_type": "code",
   "execution_count": 3,
   "id": "502d3363",
   "metadata": {},
   "outputs": [
    {
     "name": "stdout",
     "output_type": "stream",
     "text": [
      "id:  1\n",
      "First Name:  Steve\n",
      "Last Name:  Jobs\n"
     ]
    }
   ],
   "source": [
    "print('id: ', 1);print('First Name: ', 'Steve');print('Last Name: ', 'Jobs')"
   ]
  },
  {
   "cell_type": "code",
   "execution_count": 14,
   "id": "15d78add",
   "metadata": {},
   "outputs": [
    {
     "name": "stdout",
     "output_type": "stream",
     "text": [
      "[1, 2, 3, 4, 5, 6, 7, 8, 9, 10, 11, 12]\n",
      "<class 'list'>\n",
      "(1, 2, 9, 8, 5, 4, 3, 0, 5, 9, 6)\n",
      "<class 'tuple'>\n",
      "{1, 2, 3, 5, 12, 13, 14, 76, 89, 90}\n",
      "<class 'set'>\n"
     ]
    }
   ],
   "source": [
    "list = [1, 2, 3, 4,\n",
    "        5, 6, 7, 8,\n",
    "        9, 10, 11, 12]\n",
    "fist=(1,2,9,8,5,4,\n",
    "     3,0,5,9,6)\n",
    "fist1={12,13,14,\n",
    "      1,2,3,5,\n",
    "      76,89,90}\n",
    "print(list);print(type(list))\n",
    "print(fist);print(type(fist))\n",
    "print(fist1);print(type(fist1))"
   ]
  },
  {
   "cell_type": "code",
   "execution_count": 5,
   "id": "6ae99b22",
   "metadata": {},
   "outputs": [
    {
     "name": "stdout",
     "output_type": "stream",
     "text": [
      "Hello World!\n"
     ]
    }
   ],
   "source": [
    "if 100 > 99 and \\\n",
    "    200 <= 300 and \\\n",
    "    True != False:\n",
    "        print('Hello World!')"
   ]
  },
  {
   "cell_type": "code",
   "execution_count": 6,
   "id": "c97d177a",
   "metadata": {},
   "outputs": [
    {
     "name": "stdout",
     "output_type": "stream",
     "text": [
      "id:  1\n",
      "First Name:  Steve\n",
      "Last Name:  Jobs\n"
     ]
    }
   ],
   "source": [
    "print('id: ', 1)\n",
    "print('First Name: ', 'Steve')\n",
    "print('Last Name: ', 'Jobs')"
   ]
  },
  {
   "cell_type": "code",
   "execution_count": null,
   "id": "79234e9f",
   "metadata": {},
   "outputs": [],
   "source": []
  }
 ],
 "metadata": {
  "kernelspec": {
   "display_name": "Python 3 (ipykernel)",
   "language": "python",
   "name": "python3"
  },
  "language_info": {
   "codemirror_mode": {
    "name": "ipython",
    "version": 3
   },
   "file_extension": ".py",
   "mimetype": "text/x-python",
   "name": "python",
   "nbconvert_exporter": "python",
   "pygments_lexer": "ipython3",
   "version": "3.9.7"
  }
 },
 "nbformat": 4,
 "nbformat_minor": 5
}
