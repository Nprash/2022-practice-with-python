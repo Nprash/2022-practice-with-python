{
 "cells": [
  {
   "cell_type": "markdown",
   "id": "74534295",
   "metadata": {},
   "source": [
    "## Python Keywords and examples\n",
    "\n",
    " - **Just like natural languages, a computer programming language comprises of a set of predefined words which are called keywords. A prescribed rule of usage for each keyword is called a syntax.**\n",
    "\n",
    "\n",
    "\n",
    " - **Keywords in Python are reserved words that can not be used as a variable name, function name, or any other identifier..**"
   ]
  },
  {
   "cell_type": "code",
   "execution_count": 3,
   "id": "dec49236",
   "metadata": {},
   "outputs": [
    {
     "data": {
      "text/plain": [
       "(True, True, False)"
      ]
     },
     "execution_count": 3,
     "metadata": {},
     "output_type": "execute_result"
    }
   ],
   "source": [
    "True,True,True ==(True,True,True,)"
   ]
  },
  {
   "cell_type": "code",
   "execution_count": 8,
   "id": "796aff09",
   "metadata": {},
   "outputs": [
    {
     "name": "stdout",
     "output_type": "stream",
     "text": [
      "\n",
      "Here is a list of the Python keywords.  Enter any keyword to get more help.\n",
      "\n",
      "False               break               for                 not\n",
      "None                class               from                or\n",
      "True                continue            global              pass\n",
      "__peg_parser__      def                 if                  raise\n",
      "and                 del                 import              return\n",
      "as                  elif                in                  try\n",
      "assert              else                is                  while\n",
      "async               except              lambda              with\n",
      "await               finally             nonlocal            yield\n",
      "\n"
     ]
    }
   ],
   "source": [
    "help(\"keywords\")"
   ]
  },
  {
   "cell_type": "code",
   "execution_count": 8,
   "id": "28b53705",
   "metadata": {},
   "outputs": [
    {
     "name": "stdout",
     "output_type": "stream",
     "text": [
      "the list of keywords are: ['False', 'None', 'True', '__peg_parser__', 'and', 'as', 'assert', 'async', 'await', 'break', 'class', 'continue', 'def', 'del', 'elif', 'else', 'except', 'finally', 'for', 'from', 'global', 'if', 'import', 'in', 'is', 'lambda', 'nonlocal', 'not', 'or', 'pass', 'raise', 'return', 'try', 'while', 'with', 'yield']\n",
      "number of keywords are: 36\n"
     ]
    }
   ],
   "source": [
    "import keyword\n",
    "f=keyword.kwlist\n",
    "#s=count(\"f\")\n",
    "print(\"the list of keywords are:\",keyword.kwlist);print(\"number of keywords are:\",len(f))"
   ]
  },
  {
   "cell_type": "markdown",
   "id": "e5330c6c",
   "metadata": {},
   "source": [
    "## Lets discuss each keyword in details with good examples:\n",
    "\n",
    "### 1. True:\n",
    "this keyword is used to represent a boolean True. If a statement is True ,\"True\" is printed.\n",
    "\n",
    "## 2. False:\n",
    "This keyword is used to represent a boolean False. If a statement is false, \"False\" is printed.\n",
    "\n",
    "## 3. None:\n",
    "This is a special constant used to denote a null value or a void. It’s important to remember, 0, any empty container(e.g empty list) does not compute to None. \n",
    "It is an object of its datatype – NoneType. It is not possible to create multiple None objects and can assign them to variables."
   ]
  },
  {
   "cell_type": "code",
   "execution_count": 31,
   "id": "505243e7",
   "metadata": {},
   "outputs": [
    {
     "name": "stdout",
     "output_type": "stream",
     "text": [
      "None\n"
     ]
    }
   ],
   "source": [
    "k=None\n",
    "print(k)"
   ]
  },
  {
   "cell_type": "code",
   "execution_count": 1,
   "id": "d360ef9f",
   "metadata": {},
   "outputs": [
    {
     "name": "stdout",
     "output_type": "stream",
     "text": [
      "True\n",
      "False\n",
      "True\n",
      "3\n",
      "1\n",
      "False\n",
      "False\n",
      "False\n",
      "<class 'NoneType'>\n",
      "False\n"
     ]
    }
   ],
   "source": [
    "print(True==1)\n",
    "print(True==10)\n",
    "print(False==0)\n",
    "print(True+True+True)\n",
    "print(False+True+False)\n",
    "print(None==0)\n",
    "print(None==[])\n",
    "print(None==[1])\n",
    "print(type(None))\n",
    "print(False==3)"
   ]
  },
  {
   "cell_type": "code",
   "execution_count": null,
   "id": "6d41c2d0",
   "metadata": {},
   "outputs": [],
   "source": [
    "[8:42 AM, 2/13/2022] N.Prasanth: >>> print(True and False)\n",
    "False\n",
    ">>> print(False and True)\n",
    "False\n",
    ">>> print(True and True)\n",
    "True\n",
    ">>> print(False and False)\n",
    "False\n",
    ">>> print(3 and 0) # here all other digits except 1, 0 are True\n",
    "0\n",
    ">>> print(0 and 3)\n",
    "0\n",
    ">>> print(2 and 4) # here how python prints 4 whats the logic\n",
    "4\n",
    ">>> print(4 and 2) # here how python prints 2 whats the logic\n",
    "2\n",
    ">>> print(True==2)\n",
    "False\n",
    ">>> print(False==2)\n",
    "False\n",
    ">>>\n",
    "[8:42 AM, 2/13/2022] N.Prasanth: >>> print(True and False or True)\n",
    "True\n",
    ">>> print(False and False or False)\n",
    "False\n",
    ">>> print(3 and 4 or 5)\n",
    "4\n",
    ">>>"
   ]
  },
  {
   "cell_type": "markdown",
   "id": "e06c7022",
   "metadata": {},
   "source": [
    "# Logical operators: and, or, not\n",
    "\n",
    " - **\"is\" ,\"is not\" are the identity operators**"
   ]
  },
  {
   "cell_type": "markdown",
   "id": "40c52edf",
   "metadata": {},
   "source": [
    "## 4. and: \n",
    " - **This is a logical  operator in python.\"and\" returns first False value,if not found returns last value\n",
    "     the truth table is depicted below:**\n",
    "     <img src=\"and operator.JPEG\" style=\"float:left\">\n"
   ]
  },
  {
   "cell_type": "code",
   "execution_count": 2,
   "id": "7c14ea73",
   "metadata": {},
   "outputs": [
    {
     "name": "stdout",
     "output_type": "stream",
     "text": [
      "0\n",
      "0\n",
      "10\n",
      "8\n",
      "4\n",
      "20\n",
      "10\n",
      "False\n",
      "False\n",
      "False\n",
      "False\n",
      "False\n"
     ]
    }
   ],
   "source": [
    "# the expression x and y first evaluates x; if x is false,its value is returned.otherwise y is evaluated,\n",
    "#and the resulting value is returned.\n",
    "\n",
    "print(3 and 0)\n",
    "print(0 and 6)\n",
    "print(2 and 10)\n",
    "print(4 and 8 or 9)\n",
    "print(8 and 4)\n",
    "print(10 and 20)\n",
    "print(20 and 10)\n",
    "print(False==10)\n",
    "print(True==10)\n",
    "print(True==20)\n",
    "print(False==20)\n",
    "print(True==2)"
   ]
  },
  {
   "cell_type": "markdown",
   "id": "d1ed8fad",
   "metadata": {},
   "source": [
    "## 5. or:\n",
    " - **this is a logical operator in python.\"or\" returns first True value, if not found returns last value.\n",
    "     the truth table is pedicted below:**\n",
    "     <img src=\"or operator.JPEG\" style=\"float:left\">"
   ]
  },
  {
   "cell_type": "code",
   "execution_count": 3,
   "id": "5963293a",
   "metadata": {},
   "outputs": [
    {
     "name": "stdout",
     "output_type": "stream",
     "text": [
      "True\n",
      "True\n",
      "True\n",
      "False\n",
      "3\n",
      "False\n",
      "False\n",
      "False\n"
     ]
    }
   ],
   "source": [
    "# the expression  x and y first evaluates x; if x is True, its value returned, otherwise y is evaluated and printed\n",
    "#\n",
    "print(True or True)\n",
    "print(True or False)\n",
    "print(False or True)#\n",
    "print(False or False)\n",
    "print(3 or 5)\n",
    "print(True==3);print(True==5);print(False==3) #False==5)"
   ]
  },
  {
   "cell_type": "markdown",
   "id": "0025b8f4",
   "metadata": {},
   "source": [
    "## 6. not:\n",
    " - **This logical operator inverts the truth vaue.**\n",
    " \n",
    "## 7. in:\n",
    " - **this keyword is used to check if a container contains a value. this keyword is also used to loop through the container**\n",
    " \n",
    "## 8. is:\n",
    " - **this keyword is used to test object identity i.e to check if both the objects take same memory location or not** "
   ]
  },
  {
   "cell_type": "code",
   "execution_count": 56,
   "id": "cde9d7c0",
   "metadata": {},
   "outputs": [
    {
     "name": "stdout",
     "output_type": "stream",
     "text": [
      "True\n",
      "False\n",
      "1 2 3 4 "
     ]
    }
   ],
   "source": [
    "print(not False);print(not True)\n",
    "\n",
    "k=[1,2,3,4]\n",
    "for i in k:\n",
    "    print(i,end =\" \")\n"
   ]
  },
  {
   "cell_type": "code",
   "execution_count": 62,
   "id": "d3208902",
   "metadata": {},
   "outputs": [
    {
     "name": "stdout",
     "output_type": "stream",
     "text": [
      "True\n",
      "140714952644712\n",
      "False\n",
      "140714952644744\n"
     ]
    },
    {
     "name": "stderr",
     "output_type": "stream",
     "text": [
      "<>:1: SyntaxWarning: \"is\" with a literal. Did you mean \"==\"?\n",
      "<>:1: SyntaxWarning: \"is\" with a literal. Did you mean \"==\"?\n",
      "C:\\Users\\prasanth\\AppData\\Local\\Temp/ipykernel_7432/1126054879.py:1: SyntaxWarning: \"is\" with a literal. Did you mean \"==\"?\n",
      "  c=(\" \" is \" \")\n"
     ]
    }
   ],
   "source": [
    "c=(\" \" is \" \")\n",
    "print(c)\n",
    "print(id(c))\n",
    "c=({} is {})\n",
    "print(c)\n",
    "print(id(c))"
   ]
  },
  {
   "cell_type": "markdown",
   "id": "d632ca69",
   "metadata": {},
   "source": [
    "# Iteration keywords: for,while,break,continue\n",
    "\n",
    "## 9. for:\n",
    " - **this keyword is used to control flow and for looping**\n",
    "\n",
    "## 10. while:\n",
    " - **has a similar working like for,**\n",
    "\n",
    "## 11. break:\n",
    " - **breakis used to controls flow of loop,which is used to break out of the loop\n",
    "   and passes the control to the statement follows immeadiately after loop.**\n",
    "\n",
    "## 12. continue:\n",
    " - **This keyword is used to control the flow of code, this will skips the current iteration of the loop \n",
    "     but does not end the loop.**"
   ]
  },
  {
   "cell_type": "code",
   "execution_count": 23,
   "id": "656f0ad9",
   "metadata": {},
   "outputs": [
    {
     "name": "stdout",
     "output_type": "stream",
     "text": [
      "0 1 2 3 4 5 \n",
      "0 1 2 3 4 5 6 7 8 9 "
     ]
    }
   ],
   "source": [
    "for i in range(12):\n",
    "    print(i,end=\" \")\n",
    "    if i==5:\n",
    "        break # breaks the loop as soon as sees 5\n",
    "print()\n",
    "z=0\n",
    "while z<10:\n",
    "    # If i is equals to 10,\n",
    "    # continue to next iteration\n",
    "    # without printing\n",
    "    if z==10:\n",
    "        z+=1\n",
    "        continue\n",
    "    else:\n",
    "        print(z,end=\" \")\n",
    "    z+=1"
   ]
  },
  {
   "cell_type": "code",
   "execution_count": 2,
   "id": "81428578",
   "metadata": {},
   "outputs": [
    {
     "name": "stdout",
     "output_type": "stream",
     "text": [
      "0 1 2 3 4 5 7 8 9 "
     ]
    }
   ],
   "source": [
    "i=0\n",
    "while i<10:\n",
    "    if i==6:\n",
    "        i+=1\n",
    "        continue\n",
    "    else:\n",
    "        print(i,end=\" \")\n",
    "    i+=1"
   ]
  },
  {
   "cell_type": "markdown",
   "id": "54ce33b0",
   "metadata": {},
   "source": [
    "## conditionlas keywords: if, else, elif\n",
    "\n",
    "###  13.if : \n",
    " - **its a control statement for decision making. Truth expression force control  to go in \"if\" statement block.**\n",
    " \n",
    " \n",
    "### 14.else:\n",
    " - **its a control statemtn for decision making. False expression forces control to go in \" else\" statement block.**\n",
    "\n",
    "### 15.elif:\n",
    "   - **its a control statement for decision making.. its shrot for \"else if\"**"
   ]
  },
  {
   "cell_type": "code",
   "execution_count": 31,
   "id": "41d35a86",
   "metadata": {},
   "outputs": [
    {
     "name": "stdout",
     "output_type": "stream",
     "text": [
      "12 is grater\n",
      "90 is big\n",
      "s is 100\n"
     ]
    }
   ],
   "source": [
    "a=10\n",
    "b=12\n",
    "c=9\n",
    "if a>b:\n",
    "    print(\"{} is grater\".format(a))\n",
    "elif b>c:\n",
    "    print(\"{} is grater\".format(b))\n",
    "else:\n",
    "    print(\"{} is grater\".format(c))\n",
    "        \n",
    "        \n",
    "if 25>90:\n",
    "    print(\"25 is big\")\n",
    "elif 90> 26:\n",
    "    print(\"90 is big\")\n",
    "else:\n",
    "    print()\n",
    " \n",
    "\n",
    "s=100\n",
    "if s==50:\n",
    "    print(\"s is 50\")\n",
    "elif s==90:\n",
    "    print(\"s is 90\")\n",
    "else:\n",
    "    print(\"s is 100\")"
   ]
  },
  {
   "cell_type": "markdown",
   "id": "b1171deb",
   "metadata": {},
   "source": [
    "## 16. class:\n",
    "\n",
    " - **\"class\" keyword is used to define user defined classes** "
   ]
  },
  {
   "cell_type": "code",
   "execution_count": 5,
   "id": "ae935d0e",
   "metadata": {},
   "outputs": [
    {
     "name": "stdout",
     "output_type": "stream",
     "text": [
      "mammal\n",
      "I'm a mammal\n",
      "I'm a dog\n"
     ]
    }
   ],
   "source": [
    "# Python3 program to\n",
    "# demonstrate instantiating\n",
    "# a class\n",
    "  \n",
    "  \n",
    "class Dog:\n",
    "      \n",
    "    # A simple class\n",
    "    # attribute\n",
    "    attr1 = \"mammal\"\n",
    "    attr2 = \"dog\"\n",
    "  \n",
    "    # A sample method\n",
    "    def fun(self):\n",
    "        print(\"I'm a\", self.attr1)\n",
    "        print(\"I'm a\", self.attr2)\n",
    "  \n",
    "# Driver code\n",
    "# Object instantiation\n",
    "Rodger = Dog()\n",
    "  \n",
    "# Accessing class attributes\n",
    "# and method through objects\n",
    "print(Rodger.attr1)\n",
    "Rodger.fun()"
   ]
  },
  {
   "cell_type": "code",
   "execution_count": 19,
   "id": "96565fe5",
   "metadata": {},
   "outputs": [
    {
     "name": "stdout",
     "output_type": "stream",
     "text": [
      "tom cruise shoots film\n",
      "tom cruise says how are you\n"
     ]
    }
   ],
   "source": [
    "class Human:\n",
    "    def __init__(self,n,o): # self means class itself, # init method, to define properties\n",
    "                            #(arguments are values of properties)\n",
    "        self.name=n\n",
    "        self.occupation=o  # properties defined here\n",
    "        \n",
    "    def do_work(self):     # 1st method  defined here\n",
    "        if self.occupation==\"tennis player\":\n",
    "            print(self.name,\"plays tennis\")  \n",
    "        elif self.occupation==\"actor\":\n",
    "            print(self.name,\"shoots film\")\n",
    "    def speaks(self):      # 2nd method defined here\n",
    "        print(self.name, \"says how are you\")\n",
    "        \n",
    "tom=Human(\"tom cruise\",\"actor\")  # 1st instance\n",
    "tom.do_work()\n",
    "tom.speaks()\n"
   ]
  },
  {
   "cell_type": "markdown",
   "id": "e7987af0",
   "metadata": {},
   "source": [
    "### 17. def:\n",
    "\n",
    " - **\"def\" keyword is used to declare user defined function.**\n",
    "\n",
    "### 18. del:\n",
    " - **\"del\" keyword is used to delete a reference to an object. Any variable, list value can be deleted using del keyword.**"
   ]
  },
  {
   "cell_type": "code",
   "execution_count": 40,
   "id": "19e43992",
   "metadata": {},
   "outputs": [
    {
     "name": "stdout",
     "output_type": "stream",
     "text": [
      "for example hii there\n",
      "modified list is: [1, 2, 3, 44, 55, 66]\n",
      "30\n"
     ]
    },
    {
     "ename": "NameError",
     "evalue": "name 'var1' is not defined",
     "output_type": "error",
     "traceback": [
      "\u001b[1;31m---------------------------------------------------------------------------\u001b[0m",
      "\u001b[1;31mNameError\u001b[0m                                 Traceback (most recent call last)",
      "\u001b[1;32m~\\AppData\\Local\\Temp/ipykernel_13020/1613382403.py\u001b[0m in \u001b[0;36m<module>\u001b[1;34m\u001b[0m\n\u001b[0;32m     11\u001b[0m \u001b[0mprint\u001b[0m\u001b[1;33m(\u001b[0m\u001b[0mvar1\u001b[0m\u001b[1;33m+\u001b[0m\u001b[0mvar2\u001b[0m\u001b[1;33m)\u001b[0m\u001b[1;33m\u001b[0m\u001b[1;33m\u001b[0m\u001b[0m\n\u001b[0;32m     12\u001b[0m \u001b[1;32mdel\u001b[0m \u001b[0mvar1\u001b[0m\u001b[1;33m\u001b[0m\u001b[1;33m\u001b[0m\u001b[0m\n\u001b[1;32m---> 13\u001b[1;33m \u001b[0mprint\u001b[0m\u001b[1;33m(\u001b[0m\u001b[0mvar1\u001b[0m\u001b[1;33m)\u001b[0m\u001b[1;33m\u001b[0m\u001b[1;33m\u001b[0m\u001b[0m\n\u001b[0m",
      "\u001b[1;31mNameError\u001b[0m: name 'var1' is not defined"
     ]
    }
   ],
   "source": [
    "def f_un():\n",
    "    print(\"for example hii there\")\n",
    "f_un()\n",
    "\n",
    "v=[1,2,3,44,55,66,77]\n",
    "del v[6]\n",
    "print(\"modified list is:\",v)\n",
    "\n",
    "var1=10\n",
    "var2=20\n",
    "print(var1+var2)\n",
    "del var1\n",
    "print(var1)"
   ]
  },
  {
   "cell_type": "code",
   "execution_count": 20,
   "id": "a55557d3",
   "metadata": {},
   "outputs": [],
   "source": [
    "from turtle import *\n",
    "\n",
    "bgcolor(\"skyblue\")\n",
    "speed(0)\n",
    "hideturtle()\n",
    "for i in range(150):\n",
    "    color(\"red\")\n",
    "    circle(i)\n",
    "    color(\"orange\")\n",
    "    circle(i*0.8)\n",
    "    right(3)\n",
    "    forward(3)\n",
    "done()"
   ]
  },
  {
   "cell_type": "markdown",
   "id": "94666b0b",
   "metadata": {},
   "source": [
    "## 19. with:\n",
    " - **with statement is used in exception handling to make the code cleaner and much more readable \n",
    "    it simplifies the common resources like file streams.**"
   ]
  },
  {
   "cell_type": "code",
   "execution_count": 4,
   "id": "ae501c84",
   "metadata": {},
   "outputs": [
    {
     "ename": "SyntaxError",
     "evalue": "(unicode error) 'unicodeescape' codec can't decode bytes in position 2-3: truncated \\UXXXXXXXX escape (Temp/ipykernel_8824/4277384955.py, line 3)",
     "output_type": "error",
     "traceback": [
      "\u001b[1;36m  File \u001b[1;32m\"C:\\Users\\prasanth\\AppData\\Local\\Temp/ipykernel_8824/4277384955.py\"\u001b[1;36m, line \u001b[1;32m3\u001b[0m\n\u001b[1;33m    file=open(\"C:\\Users\\prasanth\\Desktop\" 'w')\u001b[0m\n\u001b[1;37m                                             ^\u001b[0m\n\u001b[1;31mSyntaxError\u001b[0m\u001b[1;31m:\u001b[0m (unicode error) 'unicodeescape' codec can't decode bytes in position 2-3: truncated \\UXXXXXXXX escape\n"
     ]
    }
   ],
   "source": [
    "# in file handling\n",
    "# 1. without using with statement\n",
    "file=open(\"C:\\Users\\prasanth\\Desktop\", 'w')\n",
    "file.write(\"hello world !\")\n",
    "file.close()\n"
   ]
  },
  {
   "cell_type": "code",
   "execution_count": 2,
   "id": "ae9cf2f6",
   "metadata": {
    "scrolled": true
   },
   "outputs": [],
   "source": [
    "# file handling\n",
    "\n",
    "# 1) without using with statement\n",
    "file = open('file_path', 'w')\n",
    "file.write('hello world !')\n",
    "file.close()\n",
    "\n",
    "# 2) without using with statement\n",
    "file = open('file_path', 'w')\n",
    "try:\n",
    "\tfile.write('hello world')\n",
    "finally:\n",
    "\tfile.close()\n"
   ]
  },
  {
   "cell_type": "code",
   "execution_count": 3,
   "id": "792d1eb0",
   "metadata": {},
   "outputs": [
    {
     "ename": "TypeError",
     "evalue": "__exit__() takes 1 positional argument but 4 were given",
     "output_type": "error",
     "traceback": [
      "\u001b[1;31m---------------------------------------------------------------------------\u001b[0m",
      "\u001b[1;31mTypeError\u001b[0m                                 Traceback (most recent call last)",
      "\u001b[1;32m~\\AppData\\Local\\Temp/ipykernel_8824/542890764.py\u001b[0m in \u001b[0;36m<module>\u001b[1;34m\u001b[0m\n\u001b[0;32m     13\u001b[0m \u001b[1;33m\u001b[0m\u001b[0m\n\u001b[0;32m     14\u001b[0m \u001b[1;32mwith\u001b[0m \u001b[0mMessageWriter\u001b[0m\u001b[1;33m(\u001b[0m\u001b[1;34m'my_file.txt'\u001b[0m\u001b[1;33m)\u001b[0m \u001b[1;32mas\u001b[0m \u001b[0mxfile\u001b[0m\u001b[1;33m:\u001b[0m\u001b[1;33m\u001b[0m\u001b[1;33m\u001b[0m\u001b[0m\n\u001b[1;32m---> 15\u001b[1;33m     \u001b[0mxfile\u001b[0m\u001b[1;33m.\u001b[0m\u001b[0mwrite\u001b[0m\u001b[1;33m(\u001b[0m\u001b[1;34m'hello world'\u001b[0m\u001b[1;33m)\u001b[0m\u001b[1;33m\u001b[0m\u001b[1;33m\u001b[0m\u001b[0m\n\u001b[0m",
      "\u001b[1;31mTypeError\u001b[0m: __exit__() takes 1 positional argument but 4 were given"
     ]
    }
   ],
   "source": [
    "class MessageWriter(object):\n",
    "    def __init__(self, file_name):\n",
    "        self.file_name = file_name\n",
    "      \n",
    "    def __enter__(self):\n",
    "        self.file = open(self.file_name, 'w')\n",
    "        return self.file\n",
    "  \n",
    "    def __exit__(self):\n",
    "        self.file.close()\n",
    "  \n",
    "# using with statement with MessageWriter\n",
    "  \n",
    "with MessageWriter('my_file.txt') as xfile:\n",
    "    xfile.write('hello world')"
   ]
  },
  {
   "cell_type": "markdown",
   "id": "c4250a99",
   "metadata": {},
   "source": [
    "## 20. as:\n",
    " - Giving a new name to the imported module, Ex: import math as mymath."
   ]
  },
  {
   "cell_type": "code",
   "execution_count": 9,
   "id": "966eb8bf",
   "metadata": {},
   "outputs": [
    {
     "name": "stdout",
     "output_type": "stream",
     "text": [
      "6\n",
      "120\n"
     ]
    }
   ],
   "source": [
    "import math as klg\n",
    "print(klg.factorial(3))\n",
    "\n",
    "print(klg.factorial(5))"
   ]
  },
  {
   "cell_type": "markdown",
   "id": "c2b498fa",
   "metadata": {},
   "source": [
    "## 21. pass:\n",
    " - **1.pass is a null statement in python. nothing happens when this encountered.This is used to prevent indentation error and used as placeholder.**\n",
    " \n",
    " - **2. the difference between pass and comment is that comment ignored by the interpreter whereas pass not ignored.** "
   ]
  },
  {
   "cell_type": "code",
   "execution_count": 11,
   "id": "63c33d48",
   "metadata": {},
   "outputs": [],
   "source": [
    "# example1: pass statement can be used in for loop when user doesnt know what to code inside the loop \n",
    "n=50\n",
    "for i in range(n):\n",
    "    #pass can be used as placeholder\n",
    "    #when code is to add later\n",
    "    pass"
   ]
  },
  {
   "cell_type": "code",
   "execution_count": 12,
   "id": "04613e74",
   "metadata": {},
   "outputs": [],
   "source": [
    "# example2: pass statement can be used in empty function\n",
    "\n",
    "def myfun():\n",
    "    pass"
   ]
  },
  {
   "cell_type": "code",
   "execution_count": 13,
   "id": "1b859f42",
   "metadata": {},
   "outputs": [],
   "source": [
    "# example3: pass statement can be used in empty class\n",
    "\n",
    "class myclass:\n",
    "    pass"
   ]
  },
  {
   "cell_type": "code",
   "execution_count": 15,
   "id": "bbb58c8a",
   "metadata": {},
   "outputs": [
    {
     "name": "stdout",
     "output_type": "stream",
     "text": [
      "b>a\n"
     ]
    }
   ],
   "source": [
    "# example4: pass statement can be used with conditionals\n",
    "a=3\n",
    "b=5\n",
    "if a>b:\n",
    "    pass\n",
    "else:\n",
    "    print(\"b>a\")\n"
   ]
  },
  {
   "cell_type": "code",
   "execution_count": 26,
   "id": "50534546",
   "metadata": {},
   "outputs": [
    {
     "name": "stdout",
     "output_type": "stream",
     "text": [
      "x y z "
     ]
    }
   ],
   "source": [
    "#example5: lets take another examle in which pass statement get executed when the condition is True\n",
    "\n",
    "li=['z','y','x','w']\n",
    "li=li[::-1]\n",
    "for i in li:\n",
    "    \n",
    "    if i=='w':\n",
    "        pass\n",
    "    else:\n",
    "        print(i,end =' ')"
   ]
  },
  {
   "cell_type": "markdown",
   "id": "a97a3f1c",
   "metadata": {},
   "source": [
    "## 22. lambda:\n",
    " - **lambda keyword is used to inline returning function with no statements allowed internally.**"
   ]
  },
  {
   "cell_type": "code",
   "execution_count": 34,
   "id": "3105ef27",
   "metadata": {},
   "outputs": [
    {
     "ename": "SyntaxError",
     "evalue": "invalid syntax (Temp/ipykernel_8824/1084538975.py, line 7)",
     "output_type": "error",
     "traceback": [
      "\u001b[1;36m  File \u001b[1;32m\"C:\\Users\\prasanth\\AppData\\Local\\Temp/ipykernel_8824/1084538975.py\"\u001b[1;36m, line \u001b[1;32m7\u001b[0m\n\u001b[1;33m    w=lambda n:for i in n\u001b[0m\n\u001b[1;37m               ^\u001b[0m\n\u001b[1;31mSyntaxError\u001b[0m\u001b[1;31m:\u001b[0m invalid syntax\n"
     ]
    }
   ],
   "source": [
    "k=lambda x:x+5\n",
    "print(k(5))\n",
    "\n",
    "p=lambda a,b:a**b\n",
    "print(p(2,3))\n",
    "\n",
    "w=lambda n:for i in n\n",
    "print(w(10))"
   ]
  },
  {
   "cell_type": "markdown",
   "id": "6118bb02",
   "metadata": {},
   "source": [
    "## 23. import:\n",
    "\n",
    " - this statement is used to include a particular module into current program.\n",
    "\n",
    "## 24. from:\n",
    "\n",
    " - Generally used with import,from is used to import particular functionality from the module imported."
   ]
  },
  {
   "cell_type": "code",
   "execution_count": 38,
   "id": "2a17464c",
   "metadata": {},
   "outputs": [
    {
     "name": "stdout",
     "output_type": "stream",
     "text": [
      "120\n",
      "120\n"
     ]
    }
   ],
   "source": [
    "import math\n",
    "print(math.factorial(5))\n",
    "\n",
    "from math import factorial\n",
    "print(factorial(5))"
   ]
  },
  {
   "cell_type": "markdown",
   "id": "823b0d8f",
   "metadata": {},
   "source": [
    "# below are exception handling keywords\n",
    " - there are 3 types of errors.\n",
    " 1)compile time error=> if we miss : '' () similar symbols we find syntactical error when it comes to compile<= \n",
    " 2)logical time error=>if we find wrong output, its a logical error\n",
    " 3)run time error=>if a user gives wrong input,or by net interrpution it gives runtime error\n",
    "\n",
    "\n",
    "\n",
    "## 25. try:\n",
    "\n",
    " - **this keyword is used for exception handling. used to catch the error in the code using the keyword \"except\"\n",
    "   code in \"try\" block checked,if there is any type of errors,except block executed.** \n",
    "\n",
    "## 26. except:\n",
    " - to catch the error with handling the Exception\n",
    "\n",
    "## 27. finally:\n",
    "\n",
    " - \"finally\" keyword executes irrespective of try or except executes or not, \"finally\" keyword will execute \n",
    "\n",
    "\n",
    "## 28. assert:\n",
    "\n",
    " - this function is used for debuging purpose.usually used to check the correctness of the code, if a statement evaluated to be True, nothing happens,if False,\"AssertionError\" raise, one can also print a message with the error,separated by comma.\n"
   ]
  },
  {
   "cell_type": "code",
   "execution_count": 41,
   "id": "aefe315e",
   "metadata": {},
   "outputs": [
    {
     "name": "stdout",
     "output_type": "stream",
     "text": [
      "hey you cant divide a number by zero\n",
      "bey\n"
     ]
    }
   ],
   "source": [
    "a=5\n",
    "b=0\n",
    "try:\n",
    "    print(a/b)\n",
    "except Exception:  # here Exception our handling word\n",
    "    print(\"hey you cant divide a number by zero\")\n",
    "print(\"bey\")"
   ]
  },
  {
   "cell_type": "code",
   "execution_count": 49,
   "id": "0a15541d",
   "metadata": {},
   "outputs": [
    {
     "name": "stdout",
     "output_type": "stream",
     "text": [
      "4\n",
      "hii there\n"
     ]
    }
   ],
   "source": [
    "s=20\n",
    "t=5\n",
    "try:\n",
    "    print(s//t)  ##if there is no error at try keyword, it skips(not execute) the except block\n",
    "except Exception:\n",
    "    print(\"not possible\")\n",
    "    \n",
    "print(\"hii there\")"
   ]
  },
  {
   "cell_type": "code",
   "execution_count": 57,
   "id": "e76978f5",
   "metadata": {},
   "outputs": [
    {
     "name": "stdout",
     "output_type": "stream",
     "text": [
      "not possible to divide with zero: integer division or modulo by zero\n",
      "bye\n"
     ]
    }
   ],
   "source": [
    "p=12\n",
    "q=0\n",
    "try:\n",
    "    print(p//q)\n",
    "except Exception as e:\n",
    "    print(\"not possible to divide with zero:\", e)\n",
    "print(\"bye\")"
   ]
  },
  {
   "cell_type": "code",
   "execution_count": 58,
   "id": "fc7cdee7",
   "metadata": {},
   "outputs": [
    {
     "name": "stdout",
     "output_type": "stream",
     "text": [
      "resource open\n",
      "3\n",
      "resource close\n"
     ]
    }
   ],
   "source": [
    "# for file handling like open a file and close a file \n",
    "\n",
    "l=12\n",
    "k=4\n",
    "try:\n",
    "    print(\"resource open\")\n",
    "    print(l//k)              # if try block no error it prints both open and close statement as well\n",
    "    print(\"resource close\")\n",
    "except Exception as f:\n",
    "    print(\"wrong type go back\", f)\n",
    "\n",
    "\n"
   ]
  },
  {
   "cell_type": "code",
   "execution_count": 60,
   "id": "b086618a",
   "metadata": {},
   "outputs": [
    {
     "name": "stdout",
     "output_type": "stream",
     "text": [
      "resource open\n",
      "wrong::: integer division or modulo by zero\n"
     ]
    }
   ],
   "source": [
    "## except block executed only if try block has an error\n",
    "\n",
    "c=25\n",
    "d=0\n",
    "try:\n",
    "    print(\"resource open\")\n",
    "    print(c//d)            # if try block has error, close statement will not be printed\n",
    "    print(\"resource close\")\n",
    "except Exception as g:\n",
    "    print(\"wrong:::\", g)"
   ]
  },
  {
   "cell_type": "code",
   "execution_count": 61,
   "id": "03bdd087",
   "metadata": {},
   "outputs": [
    {
     "name": "stdout",
     "output_type": "stream",
     "text": [
      "resource open\n",
      "o division error check= integer division or modulo by zero\n",
      "resource close\n"
     ]
    }
   ],
   "source": [
    "#finally block will be executed if we get error as well as if we dont get error\n",
    "\n",
    "\n",
    "\n",
    "b=50\n",
    "c=0\n",
    "try:\n",
    "    print(\"resource open\")\n",
    "    print(b//c)\n",
    "except Exception as h:\n",
    "    print(\"o division error check=\",h)\n",
    "finally:\n",
    "    print(\"resource close\")"
   ]
  },
  {
   "cell_type": "code",
   "execution_count": 69,
   "id": "0a242dd1",
   "metadata": {},
   "outputs": [
    {
     "name": "stdout",
     "output_type": "stream",
     "text": [
      "resource open\n",
      "2\n",
      "entera number:p\n",
      "resource close\n"
     ]
    },
    {
     "ename": "ValueError",
     "evalue": "invalid literal for int() with base 10: 'p'",
     "output_type": "error",
     "traceback": [
      "\u001b[1;31m---------------------------------------------------------------------------\u001b[0m",
      "\u001b[1;31mValueError\u001b[0m                                Traceback (most recent call last)",
      "\u001b[1;32m~\\AppData\\Local\\Temp/ipykernel_8824/122142709.py\u001b[0m in \u001b[0;36m<module>\u001b[1;34m\u001b[0m\n\u001b[0;32m      4\u001b[0m     \u001b[0mprint\u001b[0m\u001b[1;33m(\u001b[0m\u001b[1;34m\"resource open\"\u001b[0m\u001b[1;33m)\u001b[0m\u001b[1;33m\u001b[0m\u001b[1;33m\u001b[0m\u001b[0m\n\u001b[0;32m      5\u001b[0m     \u001b[0mprint\u001b[0m\u001b[1;33m(\u001b[0m\u001b[0mb\u001b[0m\u001b[1;33m//\u001b[0m\u001b[0mc\u001b[0m\u001b[1;33m)\u001b[0m\u001b[1;33m\u001b[0m\u001b[1;33m\u001b[0m\u001b[0m\n\u001b[1;32m----> 6\u001b[1;33m     \u001b[0mk\u001b[0m\u001b[1;33m=\u001b[0m\u001b[0mint\u001b[0m\u001b[1;33m(\u001b[0m\u001b[0minput\u001b[0m\u001b[1;33m(\u001b[0m\u001b[1;34m\"entera number:\"\u001b[0m\u001b[1;33m)\u001b[0m\u001b[1;33m)\u001b[0m\u001b[1;33m\u001b[0m\u001b[1;33m\u001b[0m\u001b[0m\n\u001b[0m\u001b[0;32m      7\u001b[0m     \u001b[0mprint\u001b[0m\u001b[1;33m(\u001b[0m\u001b[0mk\u001b[0m\u001b[1;33m)\u001b[0m\u001b[1;33m\u001b[0m\u001b[1;33m\u001b[0m\u001b[0m\n\u001b[0;32m      8\u001b[0m \u001b[1;32mexcept\u001b[0m \u001b[0mZeroDivisionError\u001b[0m \u001b[1;32mas\u001b[0m \u001b[0mh\u001b[0m\u001b[1;33m:\u001b[0m\u001b[1;33m\u001b[0m\u001b[1;33m\u001b[0m\u001b[0m\n",
      "\u001b[1;31mValueError\u001b[0m: invalid literal for int() with base 10: 'p'"
     ]
    }
   ],
   "source": [
    "b=50\n",
    "c=20\n",
    "try:\n",
    "    print(\"resource open\")\n",
    "    print(b//c)\n",
    "    k=int(input(\"entera number:\")) # str type input entered to handle Exception with unique type exception handler\n",
    "    print(k)\n",
    "except ZeroDivisionError as h:   # ZeroDivisionError handles error itself only.\n",
    "    print(\"o division error check=\",h)\n",
    "finally:\n",
    "    print(\"resource close\")"
   ]
  },
  {
   "cell_type": "code",
   "execution_count": 71,
   "id": "381a63da",
   "metadata": {
    "scrolled": true
   },
   "outputs": [
    {
     "name": "stdout",
     "output_type": "stream",
     "text": [
      "resource open\n",
      "2\n",
      "entera number:prasanth\n",
      "invalid input invalid literal for int() with base 10: 'prasanth'\n",
      "resource close\n"
     ]
    }
   ],
   "source": [
    "b=50\n",
    "c=20\n",
    "try:\n",
    "    print(\"resource open\")\n",
    "    print(b//c)\n",
    "    k=int(input(\"entera number:\")) # here entered a str type input to handle Exception\n",
    "    print(k)\n",
    "except ZeroDivisionError as h:   # ZeroDivisionError handles error itself only.\n",
    "    print(\"o division error check=\",h)\n",
    "except Exception as l:   # \"Exception\" handles all type of Exceptions here\n",
    "    print(\"invalid input\",l)\n",
    "finally:\n",
    "    print(\"resource close\")"
   ]
  },
  {
   "cell_type": "markdown",
   "id": "d0949756",
   "metadata": {},
   "source": [
    "### 28. Assert: \n",
    " - this function is used for debuging purpose.usually used to check the correctness of the code, if a statement evaluated to be True, nothing happens,if False,\"AssertionError\" raise, one can also print a message with the error,separated by comma.\n",
    "  \n",
    " - **Example down below**"
   ]
  },
  {
   "cell_type": "code",
   "execution_count": 96,
   "id": "a7568f1a",
   "metadata": {},
   "outputs": [
    {
     "ename": "AssertionError",
     "evalue": "zero division not possible",
     "output_type": "error",
     "traceback": [
      "\u001b[1;31m---------------------------------------------------------------------------\u001b[0m",
      "\u001b[1;31mAssertionError\u001b[0m                            Traceback (most recent call last)",
      "\u001b[1;32m~\\AppData\\Local\\Temp/ipykernel_8824/827426634.py\u001b[0m in \u001b[0;36m<module>\u001b[1;34m\u001b[0m\n\u001b[0;32m      1\u001b[0m \u001b[0mj\u001b[0m\u001b[1;33m=\u001b[0m\u001b[1;36m5\u001b[0m\u001b[1;33m\u001b[0m\u001b[1;33m\u001b[0m\u001b[0m\n\u001b[0;32m      2\u001b[0m \u001b[0mm\u001b[0m\u001b[1;33m=\u001b[0m\u001b[1;36m0\u001b[0m\u001b[1;33m\u001b[0m\u001b[1;33m\u001b[0m\u001b[0m\n\u001b[1;32m----> 3\u001b[1;33m \u001b[1;32massert\u001b[0m \u001b[0mm\u001b[0m\u001b[1;33m>\u001b[0m\u001b[1;36m0\u001b[0m\u001b[1;33m,\u001b[0m\u001b[1;34m\"zero division not possible\"\u001b[0m \u001b[1;31m#here we get desired message with AssertionError\u001b[0m\u001b[1;33m\u001b[0m\u001b[1;33m\u001b[0m\u001b[0m\n\u001b[0m\u001b[0;32m      4\u001b[0m \u001b[1;31m#try:\u001b[0m\u001b[1;33m\u001b[0m\u001b[1;33m\u001b[0m\u001b[0m\n\u001b[0;32m      5\u001b[0m \u001b[0mprint\u001b[0m\u001b[1;33m(\u001b[0m\u001b[0mj\u001b[0m\u001b[1;33m//\u001b[0m\u001b[0mm\u001b[0m\u001b[1;33m)\u001b[0m\u001b[1;33m\u001b[0m\u001b[1;33m\u001b[0m\u001b[0m\n",
      "\u001b[1;31mAssertionError\u001b[0m: zero division not possible"
     ]
    }
   ],
   "source": [
    "j=5\n",
    "m=0\n",
    "assert m>0,\"zero division not possible\" #here we get desired message with AssertionError\n",
    "#try:\n",
    "print(j//m)"
   ]
  },
  {
   "cell_type": "code",
   "execution_count": 98,
   "id": "cb010f21",
   "metadata": {},
   "outputs": [
    {
     "ename": "AssertionError",
     "evalue": "zero division error1",
     "output_type": "error",
     "traceback": [
      "\u001b[1;31m---------------------------------------------------------------------------\u001b[0m",
      "\u001b[1;31mAssertionError\u001b[0m                            Traceback (most recent call last)",
      "\u001b[1;32m~\\AppData\\Local\\Temp/ipykernel_8824/2707625499.py\u001b[0m in \u001b[0;36m<module>\u001b[1;34m\u001b[0m\n\u001b[0;32m      1\u001b[0m \u001b[0ma\u001b[0m\u001b[1;33m=\u001b[0m\u001b[1;36m3\u001b[0m\u001b[1;33m\u001b[0m\u001b[1;33m\u001b[0m\u001b[0m\n\u001b[0;32m      2\u001b[0m \u001b[0mb\u001b[0m\u001b[1;33m=\u001b[0m\u001b[1;36m0\u001b[0m\u001b[1;33m\u001b[0m\u001b[1;33m\u001b[0m\u001b[0m\n\u001b[1;32m----> 3\u001b[1;33m \u001b[1;32massert\u001b[0m \u001b[0mb\u001b[0m\u001b[1;33m!=\u001b[0m\u001b[1;36m0\u001b[0m\u001b[1;33m,\u001b[0m\u001b[1;34m\"zero division error1\"\u001b[0m\u001b[1;33m\u001b[0m\u001b[1;33m\u001b[0m\u001b[0m\n\u001b[0m\u001b[0;32m      4\u001b[0m \u001b[0mprint\u001b[0m\u001b[1;33m(\u001b[0m\u001b[0ma\u001b[0m\u001b[1;33m/\u001b[0m\u001b[0mb\u001b[0m\u001b[1;33m)\u001b[0m\u001b[1;33m\u001b[0m\u001b[1;33m\u001b[0m\u001b[0m\n",
      "\u001b[1;31mAssertionError\u001b[0m: zero division error1"
     ]
    }
   ],
   "source": [
    "a=3\n",
    "b=0\n",
    "assert b!=0,\"zero division error1\"\n",
    "print(a/b)"
   ]
  },
  {
   "cell_type": "code",
   "execution_count": 84,
   "id": "c58202a0",
   "metadata": {},
   "outputs": [
    {
     "name": "stdout",
     "output_type": "stream",
     "text": [
      "40 is O.K\n",
      "26 is O.K\n",
      "39 is O.K\n",
      "30 is O.K\n"
     ]
    },
    {
     "ename": "AssertionError",
     "evalue": "Batch is Rejected",
     "output_type": "error",
     "traceback": [
      "\u001b[1;31m---------------------------------------------------------------------------\u001b[0m",
      "\u001b[1;31mAssertionError\u001b[0m                            Traceback (most recent call last)",
      "\u001b[1;32m~\\AppData\\Local\\Temp/ipykernel_8824/3491214458.py\u001b[0m in \u001b[0;36m<module>\u001b[1;34m\u001b[0m\n\u001b[0;32m     11\u001b[0m \u001b[1;31m# using assert to check for temperature greater than cut\u001b[0m\u001b[1;33m\u001b[0m\u001b[1;33m\u001b[0m\u001b[0m\n\u001b[0;32m     12\u001b[0m \u001b[1;32mfor\u001b[0m \u001b[0mi\u001b[0m \u001b[1;32min\u001b[0m \u001b[0mbatch\u001b[0m\u001b[1;33m:\u001b[0m\u001b[1;33m\u001b[0m\u001b[1;33m\u001b[0m\u001b[0m\n\u001b[1;32m---> 13\u001b[1;33m         \u001b[1;32massert\u001b[0m \u001b[0mi\u001b[0m \u001b[1;33m>=\u001b[0m \u001b[1;36m26\u001b[0m\u001b[1;33m,\u001b[0m \u001b[1;34m\"Batch is Rejected\"\u001b[0m\u001b[1;33m\u001b[0m\u001b[1;33m\u001b[0m\u001b[0m\n\u001b[0m\u001b[0;32m     14\u001b[0m         \u001b[0mprint\u001b[0m \u001b[1;33m(\u001b[0m\u001b[0mstr\u001b[0m\u001b[1;33m(\u001b[0m\u001b[0mi\u001b[0m\u001b[1;33m)\u001b[0m \u001b[1;33m+\u001b[0m \u001b[1;34m\" is O.K\"\u001b[0m \u001b[1;33m)\u001b[0m\u001b[1;33m\u001b[0m\u001b[1;33m\u001b[0m\u001b[0m\n",
      "\u001b[1;31mAssertionError\u001b[0m: Batch is Rejected"
     ]
    }
   ],
   "source": [
    "# Python 3 code to demonstrate\n",
    "# working of assert\n",
    "# Application\n",
    "\n",
    "# initializing list of foods temperatures\n",
    "batch = [ 40, 26, 39, 30, 25, 21]\n",
    "\n",
    "# initializing cut temperature\n",
    "cut = 26\n",
    "\n",
    "# using assert to check for temperature greater than cut\n",
    "for i in batch:\n",
    "\tassert i >= 26, \"Batch is Rejected\"\n",
    "\tprint (str(i) + \" is O.K\" )\n"
   ]
  },
  {
   "cell_type": "code",
   "execution_count": 94,
   "id": "50b08816",
   "metadata": {},
   "outputs": [
    {
     "name": "stdout",
     "output_type": "stream",
     "text": [
      "1is OK\n",
      "12is OK\n",
      "13is OK\n",
      "14is OK\n",
      "5is OK\n",
      "6is OK\n"
     ]
    }
   ],
   "source": [
    "li=[1,12,13,14,5,6]\n",
    "def tocheck(li):\n",
    "    for i in li:\n",
    "        if i>=1:\n",
    "            print(str(i)+\"is OK\")\n",
    "tocheck(li)"
   ]
  },
  {
   "cell_type": "markdown",
   "id": "68bc20e7",
   "metadata": {},
   "source": [
    "## 29. global:\n",
    "\n",
    " - global keyword is used inside the function only,when we want to change the value of variable. it allows to modify the variable outside the function.\n",
    "      - Rules for global variable:\n",
    "              1.a variable is assigned a value anywhere within the functions body it is assumed to be a loacl unnless it                    is explicitly declared as global.\n",
    "              2.variables that are only referenced inside a function are implicitly global.\n",
    "              3.we use global keyword, to use a global variable inside a function.\n",
    "              4.there is no need to use global keyword outside a function.\n",
    "## 30. non local: \n",
    "\n",
    " - **This keyword works similar to the global, but rather than global, this keyword declares a variable to point to variable of outside enclosing function, in case of nested functions.**"
   ]
  },
  {
   "cell_type": "code",
   "execution_count": 101,
   "id": "122845f4",
   "metadata": {},
   "outputs": [
    {
     "name": "stdout",
     "output_type": "stream",
     "text": [
      "18\n"
     ]
    }
   ],
   "source": [
    "#to acces global variable inside a function there is no need to use global keyword\n",
    "\n",
    "#global variable\n",
    "x=12\n",
    "y=6\n",
    "#function to perform addition\n",
    "def add():\n",
    "    z=x+y\n",
    "    print(z)\n",
    "#function calling\n",
    "add()"
   ]
  },
  {
   "cell_type": "code",
   "execution_count": 105,
   "id": "055c229d",
   "metadata": {},
   "outputs": [
    {
     "name": "stdout",
     "output_type": "stream",
     "text": [
      "value of y inside function= 16\n",
      "value of y outside function= 16\n"
     ]
    }
   ],
   "source": [
    "\n",
    "y=6\n",
    "def gun():\n",
    "    global y \n",
    "    y=y+10\n",
    "    print(\"value of y inside function=\",y)\n",
    "gun()\n",
    "print(\"value of y outside function=\",y)"
   ]
  },
  {
   "cell_type": "code",
   "execution_count": 1,
   "id": "2c7f9e2e",
   "metadata": {},
   "outputs": [
    {
     "name": "stdout",
     "output_type": "stream",
     "text": [
      "25\n",
      "20\n"
     ]
    }
   ],
   "source": [
    "# global variable\n",
    "a = 15\n",
    "b = 10\n",
    "\n",
    "# function to perform addition\n",
    "def add():\n",
    "\tc = a + b\n",
    "\tprint(c)\n",
    "\n",
    "# calling a function\n",
    "add()\n",
    "\n",
    "# nonlocal keyword\n",
    "def fun():\n",
    "\tvar1 = 10\n",
    "\n",
    "\tdef gun():\n",
    "\t\t# tell python explicitly that it\n",
    "\t\t# has to access var1 initialized\n",
    "\t\t# in fun on line 2\n",
    "\t\t# using the keyword nonlocal\n",
    "\t\tnonlocal var1\n",
    "\t\t\n",
    "\t\tvar1 = var1 + 10\n",
    "\t\tprint(var1)\n",
    "\n",
    "\tgun()\n",
    "fun()\n",
    "\n"
   ]
  },
  {
   "cell_type": "code",
   "execution_count": 2,
   "id": "1a96f0aa",
   "metadata": {},
   "outputs": [
    {
     "name": "stdout",
     "output_type": "stream",
     "text": [
      "\n",
      "Here is a list of the Python keywords.  Enter any keyword to get more help.\n",
      "\n",
      "False               break               for                 not\n",
      "None                class               from                or\n",
      "True                continue            global              pass\n",
      "__peg_parser__      def                 if                  raise\n",
      "and                 del                 import              return\n",
      "as                  elif                in                  try\n",
      "assert              else                is                  while\n",
      "async               except              lambda              with\n",
      "await               finally             nonlocal            yield\n",
      "\n"
     ]
    }
   ],
   "source": [
    "help(\"keywords\")"
   ]
  },
  {
   "cell_type": "code",
   "execution_count": 3,
   "id": "80a03e9b",
   "metadata": {},
   "outputs": [
    {
     "ename": "SyntaxError",
     "evalue": "You found it! (Temp/ipykernel_5796/506757497.py, line 1)",
     "output_type": "error",
     "traceback": [
      "\u001b[1;36m  File \u001b[1;32m\"C:\\Users\\prasanth\\AppData\\Local\\Temp/ipykernel_5796/506757497.py\"\u001b[1;36m, line \u001b[1;32m1\u001b[0m\n\u001b[1;33m    __peg_parser__\u001b[0m\n\u001b[1;37m    ^\u001b[0m\n\u001b[1;31mSyntaxError\u001b[0m\u001b[1;31m:\u001b[0m You found it!\n"
     ]
    }
   ],
   "source": [
    "#__peg_parser__\n",
    "#async\n",
    "#await\n",
    "#raise\n",
    "#yield\n",
    "#return"
   ]
  },
  {
   "cell_type": "markdown",
   "id": "0d6178ad",
   "metadata": {},
   "source": [
    "## 31.return:\n",
    " - this keyword is used to return from the function.\n",
    "\n",
    "## 32.yield:\n",
    " - this keyword is used to returns generated values, generator"
   ]
  },
  {
   "cell_type": "code",
   "execution_count": 14,
   "id": "aab9bfd8",
   "metadata": {},
   "outputs": [
    {
     "name": "stdout",
     "output_type": "stream",
     "text": [
      "45\n",
      "0 1 3 6 10 15 21 28 36 45 "
     ]
    }
   ],
   "source": [
    "# Return keyword\n",
    "def fun():\n",
    "\tS = 0\n",
    "\t\n",
    "\tfor i in range(10):\n",
    "\t\tS += i\n",
    "\treturn S\n",
    "\n",
    "print(fun())\n",
    "\n",
    "# Yield Keyword\n",
    "def fun():\n",
    "\tS = 0\n",
    "\t\n",
    "\tfor i in range(10):\n",
    "\t\tS += i\n",
    "\t\tyield S\n",
    "\n",
    "for i in fun():\n",
    "\tprint(i,end=\" \")\n"
   ]
  },
  {
   "cell_type": "code",
   "execution_count": 3,
   "id": "3bd34fde",
   "metadata": {},
   "outputs": [
    {
     "name": "stdout",
     "output_type": "stream",
     "text": [
      "0,1,3,6,10,15,21,28,36,45,gencount= 10\n"
     ]
    }
   ],
   "source": [
    "count=0\n",
    "def guf():\n",
    "    w=0\n",
    "    for i in range(10):\n",
    "        w+=i\n",
    "        yield w\n",
    "for i in guf():\n",
    "    count+=1\n",
    "    \n",
    "    print(i,end=',')\n",
    "   \n",
    "print('gencount=',count)\n",
    "#guf()"
   ]
  },
  {
   "cell_type": "code",
   "execution_count": 13,
   "id": "b8f1d1e6",
   "metadata": {},
   "outputs": [
    {
     "name": "stdout",
     "output_type": "stream",
     "text": [
      "1,4,9,16,25,36,49,64,81,100,"
     ]
    }
   ],
   "source": [
    "#generate 10 perfect square nos\n",
    "def sqrt():\n",
    "    n=1\n",
    "    while n<=10:\n",
    "        k=n*n\n",
    "        yield k\n",
    "        n+=1\n",
    "result=sqrt()\n",
    "for i in result:\n",
    "    print(i,end=\",\")\n",
    "    #print(i)\n"
   ]
  },
  {
   "cell_type": "code",
   "execution_count": 23,
   "id": "e9284019",
   "metadata": {},
   "outputs": [
    {
     "name": "stdout",
     "output_type": "stream",
     "text": [
      "12\n"
     ]
    },
    {
     "data": {
      "text/plain": [
       "('sum of n is:', 78, 'count:', 13)"
      ]
     },
     "execution_count": 23,
     "metadata": {},
     "output_type": "execute_result"
    }
   ],
   "source": [
    "n=int(input())\n",
    "#count=0\n",
    "def sumofn(n):\n",
    "    sum=0\n",
    "    count=0\n",
    "    for i in range(0,n+1):\n",
    "        sum+=i\n",
    "        count+=1\n",
    "    return \"sum of n is:\",sum,\"count:\",count\n",
    "    \n",
    "sumofn(n)"
   ]
  },
  {
   "cell_type": "code",
   "execution_count": 1,
   "id": "9fd4617e",
   "metadata": {},
   "outputs": [
    {
     "name": "stdout",
     "output_type": "stream",
     "text": [
      "1983\n"
     ]
    },
    {
     "data": {
      "text/plain": [
       "4"
      ]
     },
     "execution_count": 1,
     "metadata": {},
     "output_type": "execute_result"
    }
   ],
   "source": [
    "x=input()\n",
    "len(x)"
   ]
  },
  {
   "cell_type": "code",
   "execution_count": null,
   "id": "e5df44e4",
   "metadata": {},
   "outputs": [],
   "source": []
  },
  {
   "cell_type": "code",
   "execution_count": null,
   "id": "312bdb3c",
   "metadata": {},
   "outputs": [],
   "source": []
  },
  {
   "cell_type": "code",
   "execution_count": null,
   "id": "56c78ecf",
   "metadata": {},
   "outputs": [],
   "source": []
  },
  {
   "cell_type": "code",
   "execution_count": null,
   "id": "086a6fc4",
   "metadata": {},
   "outputs": [],
   "source": []
  }
 ],
 "metadata": {
  "kernelspec": {
   "display_name": "Python 3 (ipykernel)",
   "language": "python",
   "name": "python3"
  },
  "language_info": {
   "codemirror_mode": {
    "name": "ipython",
    "version": 3
   },
   "file_extension": ".py",
   "mimetype": "text/x-python",
   "name": "python",
   "nbconvert_exporter": "python",
   "pygments_lexer": "ipython3",
   "version": "3.9.7"
  }
 },
 "nbformat": 4,
 "nbformat_minor": 5
}
