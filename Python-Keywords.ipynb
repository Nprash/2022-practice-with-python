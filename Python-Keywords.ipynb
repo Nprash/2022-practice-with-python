{
 "cells": [
  {
   "cell_type": "markdown",
   "id": "74534295",
   "metadata": {},
   "source": [
    "## Python Keywords and examples\n",
    "\n",
    " - **Just like natural languages, a computer programming language comprises of a set of predefined words which are called keywords. A prescribed rule of usage for each keyword is called a syntax.**\n",
    "\n",
    "\n",
    "\n",
    " - **Keywords in Python are reserved words that can not be used as a variable name, function name, or any other identifier..**"
   ]
  },
  {
   "cell_type": "code",
   "execution_count": 3,
   "id": "dec49236",
   "metadata": {},
   "outputs": [
    {
     "data": {
      "text/plain": [
       "(True, True, False)"
      ]
     },
     "execution_count": 3,
     "metadata": {},
     "output_type": "execute_result"
    }
   ],
   "source": [
    "True,True,True ==(True,True,True,)"
   ]
  },
  {
   "cell_type": "code",
   "execution_count": 8,
   "id": "796aff09",
   "metadata": {},
   "outputs": [
    {
     "name": "stdout",
     "output_type": "stream",
     "text": [
      "\n",
      "Here is a list of the Python keywords.  Enter any keyword to get more help.\n",
      "\n",
      "False               break               for                 not\n",
      "None                class               from                or\n",
      "True                continue            global              pass\n",
      "__peg_parser__      def                 if                  raise\n",
      "and                 del                 import              return\n",
      "as                  elif                in                  try\n",
      "assert              else                is                  while\n",
      "async               except              lambda              with\n",
      "await               finally             nonlocal            yield\n",
      "\n"
     ]
    }
   ],
   "source": [
    "help(\"keywords\")"
   ]
  },
  {
   "cell_type": "code",
   "execution_count": 8,
   "id": "28b53705",
   "metadata": {},
   "outputs": [
    {
     "name": "stdout",
     "output_type": "stream",
     "text": [
      "the list of keywords are: ['False', 'None', 'True', '__peg_parser__', 'and', 'as', 'assert', 'async', 'await', 'break', 'class', 'continue', 'def', 'del', 'elif', 'else', 'except', 'finally', 'for', 'from', 'global', 'if', 'import', 'in', 'is', 'lambda', 'nonlocal', 'not', 'or', 'pass', 'raise', 'return', 'try', 'while', 'with', 'yield']\n",
      "number of keywords are: 36\n"
     ]
    }
   ],
   "source": [
    "import keyword\n",
    "f=keyword.kwlist\n",
    "#s=count(\"f\")\n",
    "print(\"the list of keywords are:\",keyword.kwlist);print(\"number of keywords are:\",len(f))"
   ]
  },
  {
   "cell_type": "markdown",
   "id": "e5330c6c",
   "metadata": {},
   "source": [
    "## Lets discuss each keyword in details with good examples:\n",
    "\n",
    "### 1. True:\n",
    "this keyword is used to represent a boolean True. If a statement is True ,\"True\" is printed.\n",
    "\n",
    "## 2. False:\n",
    "This keyword is used to represent a boolean False. If a statement is false, \"False\" is printed.\n",
    "\n",
    "## 3. None:\n",
    "This is a special constant used to denote a null value or a void. It’s important to remember, 0, any empty container(e.g empty list) does not compute to None. \n",
    "It is an object of its datatype – NoneType. It is not possible to create multiple None objects and can assign them to variables."
   ]
  },
  {
   "cell_type": "code",
   "execution_count": 32,
   "id": "d360ef9f",
   "metadata": {},
   "outputs": [
    {
     "name": "stdout",
     "output_type": "stream",
     "text": [
      "True\n",
      "False\n",
      "True\n",
      "3\n",
      "1\n",
      "False\n",
      "False\n",
      "False\n",
      "<class 'NoneType'>\n"
     ]
    }
   ],
   "source": [
    "print(True==1)\n",
    "print(True==10)\n",
    "print(False==0)\n",
    "print(True+True+True)\n",
    "print(False+True+False)\n",
    "print(None==0)\n",
    "print(None==[])\n",
    "print(None==[1])\n",
    "print(type(None))"
   ]
  },
  {
   "cell_type": "markdown",
   "id": "40c52edf",
   "metadata": {},
   "source": [
    "## 4. and: \n",
    " - **This is a logical  operator in python.\"and\" returns first False value,if not found returns last value\n",
    "     the truth table is depicted below:**\n",
    "     <img src=\"keyword-and as operator.PNG\" style=\"float:left\">\n"
   ]
  },
  {
   "cell_type": "code",
   "execution_count": 2,
   "id": "7c14ea73",
   "metadata": {},
   "outputs": [
    {
     "name": "stdout",
     "output_type": "stream",
     "text": [
      "0\n",
      "0\n",
      "10\n",
      "8\n",
      "4\n",
      "20\n",
      "10\n",
      "False\n",
      "False\n",
      "False\n",
      "False\n",
      "False\n"
     ]
    }
   ],
   "source": [
    "# the expression x and y first evaluates x; if x is false,its value is returned.otherwise y is evaluated,\n",
    "#and the resulting value is returned.\n",
    "\n",
    "print(3 and 0)\n",
    "print(0 and 6)\n",
    "print(2 and 10)\n",
    "print(4 and 8 or 9)\n",
    "print(8 and 4)\n",
    "print(10 and 20)\n",
    "print(20 and 10)\n",
    "print(False==10)\n",
    "print(True==10)\n",
    "print(True==20)\n",
    "print(False==20)\n",
    "print(True==2)"
   ]
  },
  {
   "cell_type": "markdown",
   "id": "d1ed8fad",
   "metadata": {},
   "source": [
    "## 5. or:\n",
    " - **this is a logical operator in python.\"or\" returns first True value, if not found returns last value.\n",
    "     the truth table is pedicted below:**\n",
    "     <img src=\"keyword-or as operator.PNG\" style=\"float:left\">"
   ]
  },
  {
   "cell_type": "code",
   "execution_count": 50,
   "id": "5963293a",
   "metadata": {},
   "outputs": [
    {
     "name": "stdout",
     "output_type": "stream",
     "text": [
      "True\n",
      "True\n",
      "True\n",
      "False\n",
      "3\n",
      "False\n",
      "False\n",
      "False\n"
     ]
    }
   ],
   "source": [
    "# the expression  x and y first evaluates x; if x is True, its value returned, otherwise y is evaluated and printed\n",
    "#\n",
    "print(True or True)\n",
    "print(True or False)\n",
    "print(False or True)#\n",
    "print(False or False)\n",
    "print(3 or 5)\n",
    "print(True==3);print(True==5);print(True==3 and True==5)"
   ]
  },
  {
   "cell_type": "markdown",
   "id": "0025b8f4",
   "metadata": {},
   "source": [
    "## 6. not:\n",
    " - **This logical operator inverts the truth vaue.**\n",
    " \n",
    "## 7. in:\n",
    " - **this keyword is used to check if a container contains a value. this keyword is also used to loopthrough the container**\n",
    " \n",
    "## 8. is:\n",
    " - **this keyword is used to test object identity i.e to check if both the objects take same memory location or not** "
   ]
  },
  {
   "cell_type": "code",
   "execution_count": 56,
   "id": "cde9d7c0",
   "metadata": {},
   "outputs": [
    {
     "name": "stdout",
     "output_type": "stream",
     "text": [
      "True\n",
      "False\n",
      "1 2 3 4 "
     ]
    }
   ],
   "source": [
    "print(not False);print(not True)\n",
    "\n",
    "k=[1,2,3,4]\n",
    "for i in k:\n",
    "    print(i,end =\" \")\n"
   ]
  },
  {
   "cell_type": "code",
   "execution_count": 62,
   "id": "d3208902",
   "metadata": {},
   "outputs": [
    {
     "name": "stdout",
     "output_type": "stream",
     "text": [
      "True\n",
      "140714952644712\n",
      "False\n",
      "140714952644744\n"
     ]
    },
    {
     "name": "stderr",
     "output_type": "stream",
     "text": [
      "<>:1: SyntaxWarning: \"is\" with a literal. Did you mean \"==\"?\n",
      "<>:1: SyntaxWarning: \"is\" with a literal. Did you mean \"==\"?\n",
      "C:\\Users\\prasanth\\AppData\\Local\\Temp/ipykernel_7432/1126054879.py:1: SyntaxWarning: \"is\" with a literal. Did you mean \"==\"?\n",
      "  c=(\" \" is \" \")\n"
     ]
    }
   ],
   "source": [
    "c=(\" \" is \" \")\n",
    "print(c)\n",
    "print(id(c))\n",
    "c=({} is {})\n",
    "print(c)\n",
    "print(id(c))"
   ]
  },
  {
   "cell_type": "markdown",
   "id": "d632ca69",
   "metadata": {},
   "source": [
    "## 9. for:\n",
    " - this keyword is used to control flow and for looping\n",
    "\n",
    "## 10. while:\n",
    " - has a similar working like for,\n",
    "\n",
    "## 11. break:\n",
    " - breakis used to controls flow of loop,which is used to break out of the loop\n",
    "   and passes the control to the statement follows immeadiate\n",
    "\n",
    "## 12. continue:"
   ]
  },
  {
   "cell_type": "code",
   "execution_count": 63,
   "id": "656f0ad9",
   "metadata": {},
   "outputs": [
    {
     "name": "stdout",
     "output_type": "stream",
     "text": [
      "[1, 2, 3, 1, 2, 3]\n"
     ]
    }
   ],
   "source": [
    "x=[1,2,3]\n",
    "print(x*2)"
   ]
  },
  {
   "cell_type": "code",
   "execution_count": null,
   "id": "73022d6b",
   "metadata": {},
   "outputs": [],
   "source": []
  },
  {
   "cell_type": "code",
   "execution_count": null,
   "id": "81428578",
   "metadata": {},
   "outputs": [],
   "source": []
  },
  {
   "cell_type": "code",
   "execution_count": null,
   "id": "41d35a86",
   "metadata": {},
   "outputs": [],
   "source": []
  },
  {
   "cell_type": "code",
   "execution_count": null,
   "id": "938ee384",
   "metadata": {},
   "outputs": [],
   "source": []
  },
  {
   "cell_type": "code",
   "execution_count": null,
   "id": "19e43992",
   "metadata": {},
   "outputs": [],
   "source": []
  },
  {
   "cell_type": "code",
   "execution_count": null,
   "id": "e94a17f8",
   "metadata": {},
   "outputs": [],
   "source": []
  },
  {
   "cell_type": "code",
   "execution_count": null,
   "id": "fe20ff15",
   "metadata": {},
   "outputs": [],
   "source": []
  }
 ],
 "metadata": {
  "kernelspec": {
   "display_name": "Python 3 (ipykernel)",
   "language": "python",
   "name": "python3"
  },
  "language_info": {
   "codemirror_mode": {
    "name": "ipython",
    "version": 3
   },
   "file_extension": ".py",
   "mimetype": "text/x-python",
   "name": "python",
   "nbconvert_exporter": "python",
   "pygments_lexer": "ipython3",
   "version": "3.9.7"
  }
 },
 "nbformat": 4,
 "nbformat_minor": 5
}
