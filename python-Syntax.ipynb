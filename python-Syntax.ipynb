{
 "cells": [
  {
   "cell_type": "markdown",
   "id": "ca7b6c4f",
   "metadata": {},
   "source": [
    "### Python Syntax:\n",
    "\n",
    "#### **1 .** each line in a Python script is a statement. The following Python script contains three statements in three separate lines."
   ]
  },
  {
   "cell_type": "code",
   "execution_count": 1,
   "id": "8a4b589a",
   "metadata": {},
   "outputs": [
    {
     "name": "stdout",
     "output_type": "stream",
     "text": [
      "Id: 1\n",
      "name: steve\n",
      "age: 23\n"
     ]
    }
   ],
   "source": [
    "## 1\n",
    "\n",
    "print('Id:',1)\n",
    "print('name:','steve')\n",
    "print('age:',23)"
   ]
  },
  {
   "cell_type": "markdown",
   "id": "fc055e87",
   "metadata": {},
   "source": [
    "**2.** Use backslash character \\ to join a statement span over multiple lines, as shown below. "
   ]
  },
  {
   "cell_type": "code",
   "execution_count": 16,
   "id": "d9002e2b",
   "metadata": {},
   "outputs": [
    {
     "name": "stdout",
     "output_type": "stream",
     "text": [
      "Hello dear World\n"
     ]
    }
   ],
   "source": [
    "# Example: Python Statements\n",
    "if 100>90 and \\\n",
    "    200<= 300 and \\\n",
    "    True != False:\n",
    "    print(\"Hello dear World\")"
   ]
  },
  {
   "cell_type": "markdown",
   "id": "17cf45ac",
   "metadata": {},
   "source": [
    "**3.** \n",
    "the backslash character spans a single statement in one logical line and multiple physical lines, \n",
    "**but not the two different statements in one logical line.**"
   ]
  },
  {
   "cell_type": "code",
   "execution_count": 3,
   "id": "eb0eb2a0",
   "metadata": {},
   "outputs": [
    {
     "name": "stdout",
     "output_type": "stream",
     "text": [
      "Hello World!\n"
     ]
    }
   ],
   "source": [
    "#Example: Multiple Statements in Single Line\n",
    "\n",
    "print('Hello\\\n",
    " World!') # a multi-line statement"
   ]
  },
  {
   "cell_type": "code",
   "execution_count": 14,
   "id": "3a8df56c",
   "metadata": {},
   "outputs": [
    {
     "ename": "SyntaxError",
     "evalue": "invalid syntax (Temp/ipykernel_11896/2183092926.py, line 3)",
     "output_type": "error",
     "traceback": [
      "\u001b[1;36m  File \u001b[1;32m\"C:\\Users\\prasanth\\AppData\\Local\\Temp/ipykernel_11896/2183092926.py\"\u001b[1;36m, line \u001b[1;32m3\u001b[0m\n\u001b[1;33m    print(\"hello dear\")\u001b[0m\n\u001b[1;37m    ^\u001b[0m\n\u001b[1;31mSyntaxError\u001b[0m\u001b[1;31m:\u001b[0m invalid syntax\n"
     ]
    }
   ],
   "source": [
    "#but not the two different statements in one logical line.\n",
    "#Example: Multiple Statements in Single Line\n",
    "print(\"hello world\") \\\n",
    "print(\"hello dear\")"
   ]
  },
  {
   "cell_type": "markdown",
   "id": "c27e3c79",
   "metadata": {},
   "source": [
    "##### 4. Use the semicolon ; to separate multiple statements in a single line."
   ]
  },
  {
   "cell_type": "code",
   "execution_count": 17,
   "id": "a4e00fbc",
   "metadata": {},
   "outputs": [
    {
     "name": "stdout",
     "output_type": "stream",
     "text": [
      "kevin\n",
      "steve\n",
      "stacy\n"
     ]
    }
   ],
   "source": [
    "print('kevin');print('steve');print('stacy')"
   ]
  },
  {
   "cell_type": "markdown",
   "id": "6d204a94",
   "metadata": {},
   "source": [
    "#### 5.Expressions in parentheses (), square brackets [ ], or curly braces { } can be spread over multiple lines without using backslashes."
   ]
  },
  {
   "cell_type": "code",
   "execution_count": 5,
   "id": "5bfed6fb",
   "metadata": {},
   "outputs": [
    {
     "name": "stdout",
     "output_type": "stream",
     "text": [
      "[1, 2, 4, 5, 7, 8, 9, 7]\n",
      "(12, 13, 14, 16, 17)\n",
      "{10, 11, 13, 15, 20, 21, 22, 23}\n",
      "<class 'list'>\n",
      "<class 'tuple'>\n",
      "<class 'set'>\n"
     ]
    }
   ],
   "source": [
    "k=[1,2,4,5,\n",
    "  7,8,9,7]  # multiple statemens in single line\n",
    "l=(12,13,14,\n",
    "  16,17) # multiple statement in single line \n",
    "m={10,11,13,15,\n",
    "  20,21,22,23,}# multiple statement in single line \n",
    "\n",
    "print(k);print(l);print(m)\n",
    "print(type(k));print(type(l));print(type(m))"
   ]
  },
  {
   "cell_type": "markdown",
   "id": "4764bba1",
   "metadata": {},
   "source": [
    "## 6. indentation rules :\n",
    "\n",
    "1. use colon to start a block and press enter \n",
    "2. all the lines in a block must use the same indentation ,either space or tab\n",
    "3. python recomendation **four spaces** as indentation to make the code more radable\n",
    "4. do not mix space and tab in th same block\n",
    "5. a block have can have inner blocks with next level indentation\n",
    "\n",
    "### Below is the exmple:"
   ]
  },
  {
   "cell_type": "code",
   "execution_count": 8,
   "id": "fcd66b61",
   "metadata": {},
   "outputs": [
    {
     "name": "stdout",
     "output_type": "stream",
     "text": [
      "10 is grater than 5\n",
      "now checking 20>10\n",
      "20 is grater than 10\n"
     ]
    }
   ],
   "source": [
    "if 10>5: # 1st block\n",
    "    print(\"10 is grater than 5\") #1st block\n",
    "    print(\"now checking 20>10\") #  1st block\n",
    "    if 20>10: # 1st block\n",
    "        print(\"20 is grater than 10\") # inner block\n",
    "else: # 2nd block \n",
    "    print(\"10 is less than 5\") # 2nd block \n",
    "    print(\"this will never happen\") # 2nd block\n",
    "    "
   ]
  },
  {
   "cell_type": "markdown",
   "id": "22e2d2c2",
   "metadata": {},
   "source": [
    "### Comments in Python:\n",
    " - In a Python script, the symbol # indicates the start of a comment line. It is effective till the end of the line in the editor."
   ]
  },
  {
   "cell_type": "code",
   "execution_count": 2,
   "id": "f6ebc97b",
   "metadata": {},
   "outputs": [
    {
     "data": {
      "text/plain": [
       "2"
      ]
     },
     "execution_count": 2,
     "metadata": {},
     "output_type": "execute_result"
    }
   ],
   "source": [
    "b=[\"one\"\n",
    "  \"two\",\n",
    "  \"three\"\n",
    "  \"four\"]\n",
    "len(b)"
   ]
  },
  {
   "cell_type": "code",
   "execution_count": 5,
   "id": "9f169cfc",
   "metadata": {},
   "outputs": [],
   "source": [
    "a=[\"A\",\"b\",\"C\",\"D\",\"a\",\"B\",\"c\",\"d\"]\n",
    "k=a.sort()\n",
    "k  ## output not come; or out put shows None, but it gives out put in IDLE as capitals first after small next"
   ]
  },
  {
   "cell_type": "code",
   "execution_count": 4,
   "id": "c4eb87c8",
   "metadata": {},
   "outputs": [
    {
     "data": {
      "text/plain": [
       "64"
      ]
     },
     "execution_count": 4,
     "metadata": {},
     "output_type": "execute_result"
    }
   ],
   "source": [
    "p=2\n",
    "s=8\n",
    "pow(s,p)"
   ]
  },
  {
   "cell_type": "code",
   "execution_count": null,
   "id": "5c910416",
   "metadata": {},
   "outputs": [],
   "source": [
    "def Generator():\n",
    "    for i in range(6):\n",
    "        yield i+1\n",
    " \n",
    "t = Generator()\n",
    "#for i in t:\n",
    "print(t)\n",
    "#Generator()"
   ]
  },
  {
   "cell_type": "code",
   "execution_count": null,
   "id": "e6528f63",
   "metadata": {},
   "outputs": [],
   "source": []
  }
 ],
 "metadata": {
  "kernelspec": {
   "display_name": "Python 3 (ipykernel)",
   "language": "python",
   "name": "python3"
  },
  "language_info": {
   "codemirror_mode": {
    "name": "ipython",
    "version": 3
   },
   "file_extension": ".py",
   "mimetype": "text/x-python",
   "name": "python",
   "nbconvert_exporter": "python",
   "pygments_lexer": "ipython3",
   "version": "3.9.7"
  }
 },
 "nbformat": 4,
 "nbformat_minor": 5
}
