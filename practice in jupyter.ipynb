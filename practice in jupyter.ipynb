{
 "cells": [
  {
   "cell_type": "code",
   "execution_count": null,
   "id": "19984881",
   "metadata": {},
   "outputs": [],
   "source": [
    "#if atoms <10**9:\n",
    "#    print(\"True\")\n",
    "#else:\n",
    "#    print(\"False\")\n",
    "\n",
    "\n",
    "#check if a number is Even?\n",
    "\n",
    "#n = 123\n",
    "#if n % 2 == 0:\n",
    "#    print('n''is Even')\n",
    "#else:\n",
    "#    print('n' \"is Odd\")\n",
    "\n",
    "#Find the gratest no\n",
    "\n",
    "#L=int(input())\n",
    "#M=int(input())\n",
    "#N=int(input())\n",
    "\n",
    "#if L>M and L>N:\n",
    "#    print(L, \"is the gratest\")\n",
    "#elif M>N:\n",
    "#    print(M,\"is greatest\")\n",
    "#else:\n",
    "#    print(N,\"is greatest\")\n",
    "\n",
    "\n",
    "# check if a year is leap year?\n",
    "\n",
    "##Year=int(input())\n",
    "##if Year % 400 == 0 or (Year % 100 != 0 and Year % 4 == 0):\n",
    "##    print(Year,\"is a leap year\")\n",
    "##else:\n",
    "##    print(Year, \"is not a leap year\")\n",
    "\n",
    "\n",
    "# function to print sum of the factors of the given number\n",
    "\n",
    "##N=int(input())\n",
    "##\n",
    "##def sumoffactors(N):\n",
    "##    sum=0\n",
    "##    for i in range(1,N+1):\n",
    "##        if N % i==0:\n",
    "##            sum=sum+i\n",
    "##    print(sum)\n",
    "##sumoffactors(N)\n",
    "##\n",
    "\n",
    "\n",
    "# function to calculate the factorial of given number \n",
    "\n",
    "##x=int(input())\n",
    "##\n",
    "##def factorial(x):\n",
    "##    M=1\n",
    "##    for i in range(1,x+1):\n",
    "##        M=M*i\n",
    "##    #return M\n",
    "##    print(M)\n",
    "##factorial(x)\n"
   ]
  },
  {
   "cell_type": "code",
   "execution_count": 1,
   "id": "0390d5af",
   "metadata": {},
   "outputs": [
    {
     "name": "stdout",
     "output_type": "stream",
     "text": [
      "sadggadgag\n",
      "234246246\n",
      "sadggadgag  this string is not equals to the given 234246246\n",
      "10\n",
      "9\n"
     ]
    }
   ],
   "source": [
    "#check if a number exists in a given range\n",
    "\n",
    "##n1=int(input())\n",
    "##\n",
    "##lb=500\n",
    "##ub=1500\n",
    "##\n",
    "##if n1>=lb and n1<=ub:\n",
    "##    print(n1,\"is exist in a given range\")\n",
    "##else:\n",
    "##    print(n1, \" is not exist in the gaven range\")\n",
    "\n",
    "\n",
    "##calculate the number of digits in a numbre\n",
    "\n",
    "##N=int(input())\n",
    "##\n",
    "##print(len(str(N)))\n",
    "\n",
    "\n",
    "# check if a number is multiple of 10\n",
    "\n",
    "##N=int(input())\n",
    "##\n",
    "##if N % 10 == 0:\n",
    "##    print(N, \" is a multiple of 10\")\n",
    "##else:\n",
    "##    print(N, \"is not a multiple of 10\")\n",
    "##    \n",
    "\n",
    "# check if a number is factor of 125\n",
    "\n",
    "##N=int(input())\n",
    "##\n",
    "##if 625 % N ==0:\n",
    "##    print(N, \"is a factor of 625\")\n",
    "##else:\n",
    "##    print(N,\"is not a factor of 625\")\n",
    "\n",
    "\n",
    "# check if given string is equals to a number\n",
    "\n",
    "M=str(input())\n",
    "N=str(int(input()))\n",
    "\n",
    "if len(M)==len(N):\n",
    "    print(M, \" this string is equals to the given\",N)\n",
    "else:\n",
    "    print(M, \" this string is not equals to the given\",N)\n",
    "\n",
    "print(len(M))\n",
    "print(len(N))\n"
   ]
  },
  {
   "cell_type": "code",
   "execution_count": null,
   "id": "2988eb35",
   "metadata": {},
   "outputs": [],
   "source": []
  },
  {
   "cell_type": "code",
   "execution_count": 4,
   "id": "25cc50fe",
   "metadata": {},
   "outputs": [
    {
     "name": "stdout",
     "output_type": "stream",
     "text": [
      "iugfasih\n",
      "1735713\n",
      "iugfasih  this string is not equals to the given 1735713\n"
     ]
    }
   ],
   "source": [
    "M=str(input())\n",
    "N=str(int(input()))\n",
    "\n",
    "if len(M)==len(N):\n",
    "    print(M, \" this string is equals to the given\",N)\n",
    "else:\n",
    "    print(M, \" this string is not equals to the given\",N)"
   ]
  },
  {
   "cell_type": "code",
   "execution_count": 6,
   "id": "ac944cf7",
   "metadata": {},
   "outputs": [
    {
     "name": "stdout",
     "output_type": "stream",
     "text": [
      "2016\n",
      "31622400000000000\n"
     ]
    }
   ],
   "source": [
    "# calculate the number of nano seconds in a given leap year\n",
    "\n",
    "Year=int(input())\n",
    "if Year % 400 ==0 or(Year % 100 != 0 and Year % 4 ==0):\n",
    "    print(366*24*60*60*(10**9))\n",
    "else:\n",
    "    print(Year,\"is not a leap year\")\n",
    "\n",
    "\n"
   ]
  },
  {
   "cell_type": "code",
   "execution_count": 7,
   "id": "e7fb041c",
   "metadata": {},
   "outputs": [
    {
     "data": {
      "text/plain": [
       "11.090536506409418"
      ]
     },
     "execution_count": 7,
     "metadata": {},
     "output_type": "execute_result"
    }
   ],
   "source": [
    "# Calculate the Square root of a number without functions\n",
    "n1 = 123\n",
    "n1 ** 0.5"
   ]
  },
  {
   "cell_type": "code",
   "execution_count": 31,
   "id": "627f17ca",
   "metadata": {},
   "outputs": [
    {
     "data": {
      "text/plain": [
       "'progr'"
      ]
     },
     "execution_count": 31,
     "metadata": {},
     "output_type": "execute_result"
    }
   ],
   "source": [
    "# String Slicing\n",
    "\n",
    "S=\"pythonprogramming\"\n",
    "\n",
    "S[1]\n",
    "S[0]\n",
    "len(S)\n",
    "S[16]\n",
    "S[len(S)-1]\n",
    "\n",
    "S[-1]\n",
    "\n",
    "S[len(S)-2]\n",
    "\n",
    "S[0:5]\n",
    "\n",
    "S[4:6]\n",
    "S[-2]\n",
    "S[6:-6]"
   ]
  },
  {
   "cell_type": "code",
   "execution_count": 26,
   "id": "42ecf02d",
   "metadata": {},
   "outputs": [
    {
     "data": {
      "text/plain": [
       "'ythonProgra'"
      ]
     },
     "execution_count": 26,
     "metadata": {},
     "output_type": "execute_result"
    }
   ],
   "source": [
    "s1 = 'PythonProgram'\n",
    "len(s1)\n",
    "s1[4]\n",
    "s1[4:6]\n",
    "s1[3:6]\n",
    "s1[4:]\n",
    "s1[-4:]\n",
    "s1[1:-1]"
   ]
  },
  {
   "cell_type": "code",
   "execution_count": 43,
   "id": "ede07c93",
   "metadata": {},
   "outputs": [
    {
     "data": {
      "text/plain": [
       "'ythonProg'"
      ]
     },
     "execution_count": 43,
     "metadata": {},
     "output_type": "execute_result"
    }
   ],
   "source": [
    "s1 = 'PythonProgram'\n",
    "s1[-1]\n",
    "s1[6:-6]\n",
    "len(s1)\n",
    "\n",
    "s1[1:-3:1]\n"
   ]
  },
  {
   "cell_type": "code",
   "execution_count": 5,
   "id": "9e9b8880",
   "metadata": {},
   "outputs": [
    {
     "name": "stdout",
     "output_type": "stream",
     "text": [
      "enter the first value=78\n",
      "enter the second value=67\n",
      "enter the third value=99\n",
      "enter the forth value=35\n",
      "99  is the greatest\n"
     ]
    }
   ],
   "source": [
    "# find the greatest number amoung 4 values by usig function\n",
    "\n",
    "n1=int(input(\"enter the first value=\"))\n",
    "n2=int(input(\"enter the second value=\"))\n",
    "n3=int(input(\"enter the third value=\"))\n",
    "n4=int(input(\"enter the forth value=\"))\n",
    "\n",
    "def find_greatest(n1,n2,n3,n4):\n",
    "    if n1 > n2 and n1 > n3 and n1> n4:\n",
    "        print(n1,\"is the greatest\")\n",
    "    elif n2 > n3 and n2 > n4:\n",
    "        print(n2,\"is the greatest one among numbers\")\n",
    "    elif n3 > n4:\n",
    "        print(n3, \" is the greatest\")\n",
    "    else:\n",
    "        print(n4,\" is the greatest one among the all\")\n",
    "find_greatest(n1,n2,n3,n4)"
   ]
  },
  {
   "cell_type": "code",
   "execution_count": 7,
   "id": "96c1db2f",
   "metadata": {},
   "outputs": [
    {
     "name": "stdout",
     "output_type": "stream",
     "text": [
      "5\n",
      "1 2 3 4 5 "
     ]
    }
   ],
   "source": [
    "n=int(input())\n",
    "\n",
    "def prtntrlnum(n):\n",
    "    i=2\n",
    "    for i in range(1,n+1):\n",
    "        print(i, end=\" \")\n",
    "prtntrlnum(n)"
   ]
  },
  {
   "cell_type": "code",
   "execution_count": 8,
   "id": "7c125260",
   "metadata": {},
   "outputs": [
    {
     "data": {
      "text/plain": [
       "'p'"
      ]
     },
     "execution_count": 8,
     "metadata": {},
     "output_type": "execute_result"
    }
   ],
   "source": [
    "s='python'\n",
    "len(s)\n",
    "s[0]"
   ]
  },
  {
   "cell_type": "code",
   "execution_count": 5,
   "id": "1cf222e0",
   "metadata": {},
   "outputs": [
    {
     "name": "stdout",
     "output_type": "stream",
     "text": [
      "enter a natural number15\n",
      "1 2 3 4 5 6 7 8 9 10 11 12 13 14 15 "
     ]
    }
   ],
   "source": [
    "# write a python code to print N natural numbers by using while loop\n",
    "\n",
    "N=int(input(\"enter a natural number\"))\n",
    "\n",
    "def natural_number(N):\n",
    "    i=1\n",
    "    while i <= N:\n",
    "        print(i,end=\" \")\n",
    "        i=i+1\n",
    "natural_number(N)"
   ]
  },
  {
   "cell_type": "code",
   "execution_count": 14,
   "id": "525860c5",
   "metadata": {},
   "outputs": [
    {
     "name": "stdout",
     "output_type": "stream",
     "text": [
      "enter a lb value1\n",
      "enter a ub value600\n",
      "6 12 18 24 30 36 42 48 54 60 66 72 78 84 90 96 102 108 114 120 126 132 138 144 150 156 162 168 174 180 186 192 198 204 210 216 222 228 234 240 246 252 258 264 270 276 282 288 294 306 312 318 324 330 336 342 348 354 360 366 372 378 384 390 396 402 408 414 420 426 432 438 444 450 456 462 468 474 480 486 492 498 504 510 516 522 528 534 540 546 552 558 564 570 576 582 588 594 "
     ]
    }
   ],
   "source": [
    "#write a code to print all numbers divisible by 6 and not a factor of 100\n",
    "\n",
    "x=int(input(\"enter a lb value\"))\n",
    "y=int(input(\"enter a ub value\"))\n",
    "\n",
    "def divisible6(x,y):\n",
    "    for i in range(x,y+1):\n",
    "        if (i % 6 ==0 and i % 100 !=0):\n",
    "            print(i,end =\" \")\n",
    "divisible6(x,y)\n",
    "\n",
    "\n"
   ]
  },
  {
   "cell_type": "code",
   "execution_count": 33,
   "id": "f00aaf4c",
   "metadata": {},
   "outputs": [
    {
     "name": "stdout",
     "output_type": "stream",
     "text": [
      "enter a lb value=1\n",
      "enter a ub value=10\n",
      "average of even cubes= 360.0\n"
     ]
    }
   ],
   "source": [
    "#Function to find the average of cubes of all even numbers\n",
    "\n",
    "x=int(input(\"enter a lb value=\"))\n",
    "y=int(input(\"enter a ub value=\"))\n",
    "\n",
    "def avgcubsevn(x,y):\n",
    "    sum=0\n",
    "    count=0\n",
    "    for i in range(x,y+1):\n",
    "        if i % 2==0:\n",
    "            sum=sum+i**3\n",
    "            count=count+1\n",
    "    print(\"average of even cubes=\",sum/count)\n",
    "avgcubsevn(x,y)\n"
   ]
  },
  {
   "cell_type": "code",
   "execution_count": 17,
   "id": "eab1d147",
   "metadata": {},
   "outputs": [
    {
     "data": {
      "text/plain": [
       "360.0"
      ]
     },
     "execution_count": 17,
     "metadata": {},
     "output_type": "execute_result"
    }
   ],
   "source": [
    "(8+64+216+512+1000)/5"
   ]
  },
  {
   "cell_type": "code",
   "execution_count": 19,
   "id": "d1764b65",
   "metadata": {},
   "outputs": [
    {
     "name": "stdout",
     "output_type": "stream",
     "text": [
      "enter a number = 12\n",
      "1 is a factor of given number\n",
      "2 is a factor of given number\n",
      "3 is a factor of given number\n",
      "4 is a factor of given number\n",
      "6 is a factor of given number\n",
      "12 is a factor of given number\n",
      "number of factors: 6\n"
     ]
    }
   ],
   "source": [
    "# write a code to print list of factors of a given number \n",
    "\n",
    "N=int(input(\"enter a number = \"))\n",
    "\n",
    "def factorN(N):\n",
    "    count=0\n",
    "    for i in range(1,N+1):\n",
    "        if N % i ==0:\n",
    "            #print(i, \"is a factor of given number\"\n",
    "            count=count+1\n",
    "            print(i, \"is a factor of given number\")\n",
    "    print(\"number of factors:\",count)\n",
    "factorN(N)\n",
    "\n"
   ]
  },
  {
   "cell_type": "code",
   "execution_count": 5,
   "id": "477785ac",
   "metadata": {},
   "outputs": [
    {
     "name": "stdout",
     "output_type": "stream",
     "text": [
      "enter a value: 12\n",
      "Factors are= 1\n",
      "Factors are= 2\n",
      "Factors are= 3\n",
      "Factors are= 4\n",
      "Factors are= 6\n",
      "Factors are= 12\n",
      "sum of factors are= 28\n"
     ]
    }
   ],
   "source": [
    "# function to generate sum of factors for a given number\n",
    "\n",
    "\n",
    "N=int(input(\"enter a value: \"))\n",
    "def sumoffactors(N):\n",
    "    sum=0\n",
    "    for i in range(1,N+1):\n",
    "        if N % i==0:\n",
    "            sum=sum+i\n",
    "            print(\"Factors are=\",i)\n",
    "    print(\"sum of factors are=\",sum)\n",
    "sumoffactors(N)\n"
   ]
  },
  {
   "cell_type": "code",
   "execution_count": 31,
   "id": "a1d6c436",
   "metadata": {},
   "outputs": [
    {
     "name": "stdout",
     "output_type": "stream",
     "text": [
      "enter a value: 1\n",
      "enter a value: 50\n",
      "2 3 5 7 11 13 17 19 23 29 31 37 41 43 47 "
     ]
    }
   ],
   "source": [
    "# function to generate prime no for given range\n",
    "\n",
    "lb=int(input(\"enter a value: \"))\n",
    "ub=int(input(\"enter a value: \"))\n",
    "\n",
    "def primeno(lb,ub):\n",
    "    for num in range(lb,ub+1):\n",
    "        if num>1:\n",
    "            for i in range(2, num):\n",
    "                if num % i == 0:\n",
    "                    break\n",
    "            else:\n",
    "                print(num,end=\" \")\n",
    "primeno(lb,ub)\n",
    "\n",
    "\n",
    "\n"
   ]
  },
  {
   "cell_type": "code",
   "execution_count": 9,
   "id": "7d75e0b1",
   "metadata": {},
   "outputs": [
    {
     "data": {
      "text/plain": [
       "1"
      ]
     },
     "execution_count": 9,
     "metadata": {},
     "output_type": "execute_result"
    }
   ],
   "source": [
    "def isPrime(n):\n",
    "    flag = 1\n",
    "    for i in range(2, n//2):\n",
    "        if n%i==0:\n",
    "            flag = False\n",
    "            return flag\n",
    "    return flag\n",
    "\n",
    "isPrime(17)"
   ]
  },
  {
   "cell_type": "code",
   "execution_count": 1,
   "id": "ee49fd33",
   "metadata": {},
   "outputs": [
    {
     "ename": "NameError",
     "evalue": "name 'isPrime' is not defined",
     "output_type": "error",
     "traceback": [
      "\u001b[1;31m---------------------------------------------------------------------------\u001b[0m",
      "\u001b[1;31mNameError\u001b[0m                                 Traceback (most recent call last)",
      "\u001b[1;32m~\\AppData\\Local\\Temp/ipykernel_7664/3828600704.py\u001b[0m in \u001b[0;36m<module>\u001b[1;34m\u001b[0m\n\u001b[0;32m     12\u001b[0m         \u001b[1;32mreturn\u001b[0m \u001b[0msum\u001b[0m\u001b[1;33m/\u001b[0m\u001b[0mn\u001b[0m\u001b[1;33m\u001b[0m\u001b[1;33m\u001b[0m\u001b[0m\n\u001b[0;32m     13\u001b[0m \u001b[1;33m\u001b[0m\u001b[0m\n\u001b[1;32m---> 14\u001b[1;33m \u001b[0mavgNPrimes\u001b[0m\u001b[1;33m(\u001b[0m\u001b[1;36m10\u001b[0m\u001b[1;33m)\u001b[0m\u001b[1;33m\u001b[0m\u001b[1;33m\u001b[0m\u001b[0m\n\u001b[0m",
      "\u001b[1;32m~\\AppData\\Local\\Temp/ipykernel_7664/3828600704.py\u001b[0m in \u001b[0;36mavgNPrimes\u001b[1;34m(n)\u001b[0m\n\u001b[0;32m      6\u001b[0m     \u001b[0mseqcount\u001b[0m \u001b[1;33m=\u001b[0m \u001b[1;36m2\u001b[0m\u001b[1;33m\u001b[0m\u001b[1;33m\u001b[0m\u001b[0m\n\u001b[0;32m      7\u001b[0m     \u001b[1;32mwhile\u001b[0m\u001b[1;33m(\u001b[0m\u001b[0mPrimecount\u001b[0m\u001b[1;33m<\u001b[0m\u001b[0mn\u001b[0m\u001b[1;33m)\u001b[0m\u001b[1;33m:\u001b[0m\u001b[1;33m\u001b[0m\u001b[1;33m\u001b[0m\u001b[0m\n\u001b[1;32m----> 8\u001b[1;33m         \u001b[1;32mif\u001b[0m \u001b[0misPrime\u001b[0m\u001b[1;33m(\u001b[0m\u001b[0mseqcount\u001b[0m\u001b[1;33m)\u001b[0m\u001b[1;33m:\u001b[0m\u001b[1;33m\u001b[0m\u001b[1;33m\u001b[0m\u001b[0m\n\u001b[0m\u001b[0;32m      9\u001b[0m             \u001b[0mPrimecount\u001b[0m \u001b[1;33m+=\u001b[0m \u001b[1;36m1\u001b[0m\u001b[1;33m\u001b[0m\u001b[1;33m\u001b[0m\u001b[0m\n\u001b[0;32m     10\u001b[0m             \u001b[0msum\u001b[0m \u001b[1;33m+=\u001b[0m \u001b[0mseqcount\u001b[0m\u001b[1;33m\u001b[0m\u001b[1;33m\u001b[0m\u001b[0m\n",
      "\u001b[1;31mNameError\u001b[0m: name 'isPrime' is not defined"
     ]
    }
   ],
   "source": [
    "# function to calculate the average of first N prime numbers\n",
    "\n",
    "def avgNPrimes(n):\n",
    "    Primecount = 0\n",
    "    sum = 0\n",
    "    seqcount = 2\n",
    "    while(Primecount<n):\n",
    "        if isPrime(seqcount):\n",
    "            Primecount += 1\n",
    "            sum += seqcount\n",
    "            seqcount += 1\n",
    "        return sum/n\n",
    "    \n",
    "avgNPrimes(10)"
   ]
  },
  {
   "cell_type": "code",
   "execution_count": 29,
   "id": "b88fb36a",
   "metadata": {},
   "outputs": [
    {
     "name": "stdout",
     "output_type": "stream",
     "text": [
      "perfect numbers are: 6\n",
      "perfect numbers are: 28\n",
      "perfect numbers are: 496\n",
      "total perfect numbers are: 3\n"
     ]
    }
   ],
   "source": [
    "# 7) Function to generate all perfect numbers in given range           ##derive 2conditions in this\n",
    "# perfect number - sum of all its factrors is equal to the number  itself\n",
    "# 6->1 2 3\n",
    "#lb, ub\n",
    "\n",
    "\n",
    "def sumoffactors(N):\n",
    "    sum=0\n",
    "    for i in range(1,N//2+1):\n",
    "        if N % i==0:\n",
    "            sum=sum+i\n",
    "    return sum   \n",
    "def isPerfect(n):    \n",
    "    if sumoffactors(n) == n:\n",
    "        return True\n",
    "    return False\n",
    "\n",
    "def generatePerfect(lb, ub):\n",
    "    c=0\n",
    "    for i in range(lb, ub+1):\n",
    "        if isPerfect(i):\n",
    "            c=c+1\n",
    "            print(\"perfect numbers are:\",i, end=\"\\n\")\n",
    "    print(\"total perfect numbers are:\",c)\n",
    "\n",
    "generatePerfect(1, 1000)"
   ]
  },
  {
   "cell_type": "code",
   "execution_count": 24,
   "id": "1fc82563",
   "metadata": {},
   "outputs": [
    {
     "name": "stdout",
     "output_type": "stream",
     "text": [
      "Enter a number: 12\n",
      "1 : is a factor\n",
      "2 : is a factor\n",
      "3 : is a factor\n",
      "4 : is a factor\n",
      "6 : is a factor\n",
      "12 : is a factor\n",
      "sum of factors: 28\n",
      "factors count is: 6\n"
     ]
    }
   ],
   "source": [
    "# Function to generate the sum of factors for a given number\n",
    "# 12 -> 1 2 3 4 6 12\n",
    "n=int(input(\"Enter a number: \"))\n",
    "def factorsList(n):\n",
    "    sum = 0\n",
    "    count=0\n",
    "    for i in range(1, n+1):\n",
    "        if n % i == 0:\n",
    "            sum += i\n",
    "            count=count+1\n",
    "            print(i,\": is a factor\")\n",
    "    print(\"sum of factors:\",sum)\n",
    "    print(\"factors count is:\",count)\n",
    "#def isperfect(n):\n",
    "#    if factorsList(n)==n:\n",
    "#        return true\n",
    "#    return False\n",
    "#def togenerate_perfect_numbers(lb,ub):\n",
    "#    c=0\n",
    "#    for i in range(lb,ub+1):\n",
    "#        if isperfect(i):\n",
    "#            c=c+i\n",
    "#            print(i,end=\" \")\n",
    "#    print(\"number of perfect numbers are:\",c)\n",
    "#togenerate_perfect_numbers(1,100)\n",
    "factorsList(n)"
   ]
  },
  {
   "cell_type": "code",
   "execution_count": 23,
   "id": "2becea46",
   "metadata": {},
   "outputs": [
    {
     "data": {
      "text/plain": [
       "tuple"
      ]
     },
     "execution_count": 23,
     "metadata": {},
     "output_type": "execute_result"
    }
   ],
   "source": [
    "s=(12,2)\n",
    "type(s)"
   ]
  },
  {
   "cell_type": "code",
   "execution_count": 27,
   "id": "3d8134e5",
   "metadata": {},
   "outputs": [
    {
     "data": {
      "text/plain": [
       "list"
      ]
     },
     "execution_count": 27,
     "metadata": {},
     "output_type": "execute_result"
    }
   ],
   "source": [
    "s=[12,14,12.1,'prasanth']\n",
    "type(s)"
   ]
  },
  {
   "cell_type": "code",
   "execution_count": 28,
   "id": "90943608",
   "metadata": {},
   "outputs": [
    {
     "data": {
      "text/plain": [
       "set"
      ]
     },
     "execution_count": 28,
     "metadata": {},
     "output_type": "execute_result"
    }
   ],
   "source": [
    "s={12,13}\n",
    "type(s)"
   ]
  },
  {
   "cell_type": "code",
   "execution_count": 39,
   "id": "85a13f5b",
   "metadata": {},
   "outputs": [
    {
     "name": "stdout",
     "output_type": "stream",
     "text": [
      "[123, 'Omecran', 'python', True, 54.8, 555, 111, 222, 333, 444, 555]\n"
     ]
    },
    {
     "data": {
      "text/plain": [
       "444"
      ]
     },
     "execution_count": 39,
     "metadata": {},
     "output_type": "execute_result"
    }
   ],
   "source": [
    "li=[123,\"python\",True,54.8]\n",
    "#type(li)\n",
    "li[0]\n",
    "li[::-1]\n",
    "li[2::]\n",
    "li[::2]\n",
    "#li[1::2]\n",
    "\n",
    "li.insert(1, 'Omecran')\n",
    "li.append(555)\n",
    "li2=[111,222,333,444,555]\n",
    "li.extend(li2)\n",
    "li.index(111)\n",
    "print(li)\n",
    "li[-2]\n",
    "#li[len(li)-2]"
   ]
  },
  {
   "cell_type": "code",
   "execution_count": 43,
   "id": "1aaabc92",
   "metadata": {},
   "outputs": [
    {
     "name": "stdout",
     "output_type": "stream",
     "text": [
      "[11, 22, 65, 87, 999, 565, 90111]\n",
      "90111\n"
     ]
    }
   ],
   "source": [
    "#functoin to find nth largest number in a given range\n",
    "\n",
    "n=[11,22,65,87,999,565,90111]\n",
    "def SecondLargest(n):\n",
    "    n.sort()\n",
    "    return n[len(n)-1]\n",
    "print(n)\n",
    "print(SecondLargest(n))"
   ]
  },
  {
   "cell_type": "code",
   "execution_count": 61,
   "id": "eb91d361",
   "metadata": {},
   "outputs": [
    {
     "data": {
      "text/plain": [
       "3"
      ]
     },
     "execution_count": 61,
     "metadata": {},
     "output_type": "execute_result"
    }
   ],
   "source": [
    "# Function to search for Data in a list  \n",
    "li=[232, 456, 989, 1024,236,478]  \n",
    "\n",
    "def linearsearch(li, key):\n",
    "    for index in range(0,len(li)-1):\n",
    "        if li[index]==key:\n",
    "            return index\n",
    "    return -1\n",
    "       \n",
    "linearsearch(li,1024)\n",
    "\n"
   ]
  },
  {
   "cell_type": "code",
   "execution_count": 22,
   "id": "01405496",
   "metadata": {},
   "outputs": [
    {
     "data": {
      "text/plain": [
       "-1"
      ]
     },
     "execution_count": 22,
     "metadata": {},
     "output_type": "execute_result"
    }
   ],
   "source": [
    "# wrong code to find out the answer\n",
    "\n",
    "def linearSearch2(li, key):  # here element cant be equals to list so this was wrong code \n",
    "    for element in li:\n",
    "        if element == li:\n",
    "            return li.index(element)\n",
    "    return -1\n",
    "linearSearch2(li, 232)"
   ]
  },
  {
   "cell_type": "code",
   "execution_count": 64,
   "id": "ced562af",
   "metadata": {},
   "outputs": [
    {
     "data": {
      "text/plain": [
       "2"
      ]
     },
     "execution_count": 64,
     "metadata": {},
     "output_type": "execute_result"
    }
   ],
   "source": [
    "def linearSearch3(li, key):\n",
    "    if key in li:\n",
    "        return li.index(key)\n",
    "    return -1\n",
    "\n",
    "linearSearch3(li, 989)"
   ]
  },
  {
   "cell_type": "code",
   "execution_count": 21,
   "id": "df650698",
   "metadata": {},
   "outputs": [
    {
     "name": "stdout",
     "output_type": "stream",
     "text": [
      "No\n"
     ]
    }
   ],
   "source": [
    "elements=[1,3,5,6,890,65]\n",
    "if elements==5:\n",
    "    print(\"yes\")\n",
    "else:\n",
    "    print(\"No\")"
   ]
  },
  {
   "cell_type": "code",
   "execution_count": 6,
   "id": "72a82ef3",
   "metadata": {},
   "outputs": [
    {
     "name": "stdout",
     "output_type": "stream",
     "text": [
      "Enter a string: knowledge is essential to life, and knife is dangerous to life\n",
      "k occurs: 2 times\n"
     ]
    }
   ],
   "source": [
    "# Function to count occurance of a character in a string\n",
    "s=input(\"Enter a string: \")\n",
    "def countcharoccurance(s):\n",
    "    count=0\n",
    "    for char in s:\n",
    "        if char ==\"k\":\n",
    "            count=count+1\n",
    "    print(\"k occurs:\",count,\"times\") #count\n",
    "#s=\"python programming gives kick\"\n",
    "countcharoccurance(s)\n"
   ]
  },
  {
   "cell_type": "code",
   "execution_count": 8,
   "id": "f42743a8",
   "metadata": {},
   "outputs": [
    {
     "name": "stdout",
     "output_type": "stream",
     "text": [
      "india occures 2 times\n"
     ]
    }
   ],
   "source": [
    "#function find the number of occurances of a substring in a string\n",
    "s=\"I love india and i live in india and i die in inda\"\n",
    "s=s.split(\" \")\n",
    "def suboccurances(s, word):\n",
    "        count=0\n",
    "        for i in range (0, len(s)):\n",
    "            if word==s[i]:\n",
    "                count=count+1\n",
    "        print(\"india occures\",count,\"times\") #count\n",
    "#word=\"india\"\n",
    "suboccurances(s, \"india\")"
   ]
  },
  {
   "cell_type": "code",
   "execution_count": null,
   "id": "38d73337",
   "metadata": {},
   "outputs": [],
   "source": [
    "p=\"bsr  degree college kaviti  kotturu\"\n",
    "a=p.split(\"  \")\n",
    "a\n"
   ]
  },
  {
   "cell_type": "code",
   "execution_count": 37,
   "id": "a1aed3dc",
   "metadata": {},
   "outputs": [
    {
     "name": "stdout",
     "output_type": "stream",
     "text": [
      "Enter a Natural Number:26\n",
      "Sum of natural numbers are: 351\n"
     ]
    }
   ],
   "source": [
    "# function to count the sum of n natural number\n",
    "n= int(input(\"Enter a Natural Number:\"))\n",
    "def sumSqaresNaturalNumbers(n):\n",
    "    sum = 0\n",
    "    for i in range(1, n+1):  # 0, n+1 also exutable to find its whole sum\n",
    "        sum = sum + (i)\n",
    "    print(\"Sum of natural numbers are:\",sum)\n",
    "sumSqaresNaturalNumbers(n)"
   ]
  },
  {
   "cell_type": "markdown",
   "id": "4c010693",
   "metadata": {},
   "source": [
    "## closest to zero"
   ]
  },
  {
   "cell_type": "markdown",
   "id": "b52932d8",
   "metadata": {},
   "source": [
    "# Problem-ClosestZero\n",
    "#### you have been given an integer array A of size N. You need to print the number with value closest to zero, if there are multipule elemenets , print the number with  greater/less value\n",
    "\n",
    "#### Input Format The first line contains a single integer N denoting the size of array A The next line contins N space seperated integers denoting the elements\n",
    "\n",
    "###### Explanatin\n",
    "\n",
    " - li = [3,2, -1, -2, -3] (original list) -> -1 is closest to zero\n",
    " - sort the data\n",
    " - li = [-3, -2, -1, 2, 3] (sorted list)\n",
    " - pl = [1,2,2,3,3,] (positive sorted list)\n",
    " - pl[0] -> check if this number is +ve or -ve in the original list\n",
    " - if pl[0] in li: -return pl[0]\n",
    " - else\n",
    " - return -pl[0]"
   ]
  },
  {
   "cell_type": "code",
   "execution_count": 16,
   "id": "287e47d2",
   "metadata": {},
   "outputs": [
    {
     "name": "stdout",
     "output_type": "stream",
     "text": [
      "[1, 2, 12, 13, 14, 16, 17, 18]\n",
      "-18\n"
     ]
    }
   ],
   "source": [
    "#you have been given an integer array A of size N. You need to print the number with \n",
    "#value closest to zero, if there are multipule elemenets , \n",
    "#print the number with greater/less value\n",
    "\n",
    "li=[-2,-12,-13,-14,-16,-17,-18,-1]\n",
    "li.sort()\n",
    "pl=[]\n",
    "\n",
    "for i in li:\n",
    "    pl.append(abs(i))\n",
    "pl.sort()\n",
    "print(pl)    \n",
    "if pl[0] in li:\n",
    "    print(-pl[0]) ## which gives lesser value with farthest from zero\n",
    "else:\n",
    "    print(-pl[-1])\n"
   ]
  },
  {
   "cell_type": "code",
   "execution_count": 19,
   "id": "366c7373",
   "metadata": {},
   "outputs": [
    {
     "name": "stdout",
     "output_type": "stream",
     "text": [
      "[2, 12, 13, 14, 16, 17, 18]\n",
      "-2\n"
     ]
    }
   ],
   "source": [
    "li=[-2,-12,-13,-14,-16,-17,-18]\n",
    "li.sort()\n",
    "pl=[]\n",
    "\n",
    "for i in li:\n",
    "    pl.append(abs(i))\n",
    "pl.sort()\n",
    "print(pl)    \n",
    "if pl[0] in li:\n",
    "    print(pl[0]) ## which gives greater value with closest to zero\n",
    "else:\n",
    "    print(-pl[0])\n"
   ]
  },
  {
   "cell_type": "code",
   "execution_count": 1,
   "id": "7fe51f59",
   "metadata": {},
   "outputs": [
    {
     "data": {
      "text/plain": [
       "98"
      ]
     },
     "execution_count": 1,
     "metadata": {},
     "output_type": "execute_result"
    }
   ],
   "source": [
    "#you are given 3 numbers, a, b, c. write a program to find the largest number \n",
    "#which is less than or equal to c and leaves remainder b when divided by a\n",
    "\n",
    "def cal(a, b, c):\n",
    "    for i in range(c, a-1, -1):  ##  need to figure out the range containg 3 arguments, need to understand better later\n",
    "        if i  % a == b:\n",
    "            return i\n",
    "    return -1\n",
    "    \n",
    "cal(3, 2, 100)\n"
   ]
  },
  {
   "cell_type": "markdown",
   "id": "cf1b6d30",
   "metadata": {},
   "source": [
    "## Hackerearth problems,\n",
    " - based on my past solved problems which were found in hackerearth"
   ]
  },
  {
   "cell_type": "markdown",
   "id": "62b701f6",
   "metadata": {},
   "source": [
    " - ## 1st Task"
   ]
  },
  {
   "cell_type": "code",
   "execution_count": 41,
   "id": "79787ad5",
   "metadata": {},
   "outputs": [
    {
     "name": "stdout",
     "output_type": "stream",
     "text": [
      "5,10,15,20,25,30,35,7\n"
     ]
    }
   ],
   "source": [
    "#1) #You have been given 3 integers - l, r and k. \n",
    "#Find how many numbers between l and r (both inclusive) are divisible by k. \n",
    "#You do not need to print these numbers, you just have to find their count.\n",
    "\n",
    "\n",
    "def countDivisor(i, j, k):\n",
    "    count=0\n",
    "    for a in range(i,j+1):\n",
    "        if a%k==0:\n",
    "            print(a,end=\",\")\n",
    "            count+=1\n",
    "    #return a\n",
    "    print(count)\n",
    "    #return\n",
    "#s=input()\n",
    "#s=s.split()\n",
    "#i=s[0]\n",
    "#j=s[1]\n",
    "#k=s[2]\n",
    "countDivisor(1,39,5)"
   ]
  },
  {
   "cell_type": "markdown",
   "id": "628bbcc4",
   "metadata": {},
   "source": [
    " - ## 2nd task"
   ]
  },
  {
   "cell_type": "code",
   "execution_count": 39,
   "id": "f4702643",
   "metadata": {},
   "outputs": [
    {
     "name": "stdout",
     "output_type": "stream",
     "text": [
      "Enter a Natural number=5\n",
      "factorial of N is= 120\n"
     ]
    }
   ],
   "source": [
    "#You have been given a positive integer N. \n",
    "#You need to find and print the Factorial of this number. \n",
    "#The Factorial of a positive integer N refers to the product of all number in the range from 1 to N. \n",
    "\n",
    "N=int(input(\"Enter a Natural number=\"))\n",
    "def factorial(N):\n",
    "    F=1\n",
    "    for i in range(1,N+1):\n",
    "        F=F*i\n",
    "    print(\"factorial of N is=\",F)\n",
    "factorial(N)\n",
    "\n"
   ]
  },
  {
   "cell_type": "markdown",
   "id": "0b6071e1",
   "metadata": {},
   "source": [
    " - ## 3rd Task"
   ]
  },
  {
   "cell_type": "code",
   "execution_count": 12,
   "id": "92d5282c",
   "metadata": {},
   "outputs": [
    {
     "name": "stdout",
     "output_type": "stream",
     "text": [
      "\n"
     ]
    }
   ],
   "source": [
    "#You have been given a String S consisting of uppercase and lowercase English alphabets. \n",
    "#You need to change the case of each alphabet in this String. \n",
    "#That is, all the uppercase letters should be converted to lowercase and all the lowercase letters \n",
    "#should be converted to uppercase. \n",
    "#You need to then print the resultant String to output.\n",
    "\n",
    "#s=\"PYTHON programming LANGUAGE\"\n",
    "\n",
    "def astr(s):\n",
    "    for i in s:\n",
    "        if i==i.upper():\n",
    "            astr=i.lower()\n",
    "        elif i==i.lower():\n",
    "            ast=i.upper()\n",
    "        print(astr,end=\"\")\n",
    "s=input()\n",
    "astr(s)\n",
    "\n"
   ]
  },
  {
   "cell_type": "code",
   "execution_count": 3,
   "id": "9471c987",
   "metadata": {},
   "outputs": [
    {
     "name": "stdout",
     "output_type": "stream",
     "text": [
      "gfhsfha HDHGILSDHGkjhf csdjf\n",
      "GFHSFHA hdhgilsdhgKJHF CSDJF"
     ]
    }
   ],
   "source": [
    "def astr(n):\n",
    "    for i in n:\n",
    "        if i==i.upper():\n",
    "            astr=i.lower()\n",
    "        elif i==i.lower():\n",
    "            astr=i.upper()\n",
    "        print(astr,end=\"\")    \n",
    "              \n",
    "n=input()\n",
    "astr(n)"
   ]
  },
  {
   "cell_type": "markdown",
   "id": "5804e2bd",
   "metadata": {},
   "source": [
    " - ## 4th Task"
   ]
  },
  {
   "cell_type": "code",
   "execution_count": 40,
   "id": "936c5f71",
   "metadata": {},
   "outputs": [
    {
     "name": "stdout",
     "output_type": "stream",
     "text": [
      "123454321\n",
      "Yes\n"
     ]
    }
   ],
   "source": [
    "#You have been given a String S. You need to find and print whether this string is a palindrome or not. \n",
    "#If yes, print \"YES\" (without quotes), else print \"NO\" (without quotes)\n",
    "\n",
    "s=input()\n",
    "#s=s.split()\n",
    "def palindrome1(s):\n",
    "    if s==s[::-1]:\n",
    "        print(\"Yes\")\n",
    "    else:\n",
    "        print(\"No\")\n",
    "palindrome1(s)\n",
    "\n"
   ]
  },
  {
   "cell_type": "code",
   "execution_count": 39,
   "id": "6e3b1177",
   "metadata": {},
   "outputs": [
    {
     "data": {
      "text/plain": [
       "'1873'"
      ]
     },
     "execution_count": 39,
     "metadata": {},
     "output_type": "execute_result"
    }
   ],
   "source": [
    "x=\"1873 69 324778\"\n",
    "x=x.split()\n",
    "x[0]\n",
    "\n",
    "#x=\"python\"\n",
    "#x[0]"
   ]
  },
  {
   "cell_type": "markdown",
   "id": "f0f20861",
   "metadata": {},
   "source": [
    " - ## 5th Task"
   ]
  },
  {
   "cell_type": "code",
   "execution_count": 50,
   "id": "b25e50e2",
   "metadata": {},
   "outputs": [
    {
     "name": "stdout",
     "output_type": "stream",
     "text": [
      "Enter the desired number:10\n",
      "2 is a prime number\n",
      "3 is a prime number\n",
      "5 is a prime number\n",
      "7 is a prime number\n",
      "number of prime numbers = 4\n",
      "sum of prime numbers = 17\n"
     ]
    }
   ],
   "source": [
    "# function to print N prime numbers\n",
    "def primenumber(num):\n",
    "    count=0\n",
    "    sum=0\n",
    "    for num in range(1,num+1):\n",
    "        \n",
    "        if num > 1:           # 1 cant be a prime number so given no must be grater than 1\n",
    "            for i in range(2, num):#here range 1 and last no excluded,bcz 1 and last digit divisible by num then \n",
    "                if (num%i) == 0: # if this condition satisfied-here loop will break,bcz num has devisor other than 1 and itself\n",
    "                    break\n",
    "            else:\n",
    "                print(num,\"is a prime number\")\n",
    "                count=count+1\n",
    "                sum=sum+num\n",
    "    print(\"number of prime numbers =\",count)\n",
    "    print(\"sum of prime numbers =\",sum)\n",
    "num=int(input(\"Enter the desired number:\"))\n",
    "primenumber(num)"
   ]
  },
  {
   "cell_type": "markdown",
   "id": "ab825ce2",
   "metadata": {},
   "source": [
    "#### prime numbers: form 5,6,7,8,9,10,11,12,13,14,15\n",
    " ### - here 5 is prime number\n",
    "    - (1) 2 3 4 (5) {hence in line 4 range set from 2 to num (here 1 and 5 excluded)}\n",
    "        - 5/2 != 0\n",
    "        - 5/3 != 0\n",
    "        - 5/4 != 0\n",
    "    - 2,3,4 are not positive devisors to 5, hence 5 is a prime no\n",
    "    - if any of one from 2,3,4 has divided, which means it has a devisor other than 1 and itself: hence 5 not a prime\n",
    "### - here 5 can be divisible by 1 and 5 \n"
   ]
  },
  {
   "cell_type": "code",
   "execution_count": 38,
   "id": "16ed8ff9",
   "metadata": {},
   "outputs": [
    {
     "name": "stdout",
     "output_type": "stream",
     "text": [
      "Enter a desired no:10\n",
      "2 :is a prime number\n",
      "3 :is a prime number\n",
      "5 :is a prime number\n",
      "7 :is a prime number\n",
      "sum of prime numbers= 17\n",
      "Total prime numbers count is= 4\n",
      "Avverage of prime numbers is= 4.25\n"
     ]
    }
   ],
   "source": [
    "# function to find the sum , count and average of N prime numbers:\n",
    "\n",
    "n=int(input(\"Enter a desired no:\"))\n",
    "def sumofprimeno(n):\n",
    "    sum=0\n",
    "    count=0\n",
    "    for n in range(1,n+1):\n",
    "        if n>1:\n",
    "            for i in range(2,n):\n",
    "                if n%i==0: # if this \n",
    "                    break\n",
    "            else:\n",
    "                print(n,\":is a prime number\")\n",
    "                sum=sum+n\n",
    "                count=count+1\n",
    "    print(\"sum of prime numbers=\",sum)\n",
    "    print(\"Total prime numbers count is=\",count)\n",
    "    print(\"Avverage of prime numbers is=\",sum/count)\n",
    "sumofprimeno(n)\n"
   ]
  },
  {
   "cell_type": "markdown",
   "id": "08f917e3",
   "metadata": {},
   "source": [
    " - ## 6th Task\n",
    "### Problem Duration: brought from Hackerearth\n",
    "\n",
    "\n",
    "\n",
    "   - Input: start time, end time (HH MM)\n",
    "\n",
    "\n",
    "   - Output: time difference (HH MM)\n",
    " "
   ]
  },
  {
   "cell_type": "code",
   "execution_count": 44,
   "id": "068eccec",
   "metadata": {},
   "outputs": [
    {
     "name": "stdout",
     "output_type": "stream",
     "text": [
      "2 20\n"
     ]
    }
   ],
   "source": [
    "#Rahul is a very busy persion he dont wan't to waste his time . \n",
    "#He keeps account of duration of each and every work. \n",
    "#Now he don't even get time to calculate duration of works, \n",
    "#So your job is to count the durations for each work and give it to rahul.\n",
    "\n",
    "#calculate the time difference as total number\n",
    "# convert the total minutes into HH MM\n",
    "s=\"2 38 4 58\"\n",
    "def minutedifference(s):\n",
    "    s=s.split()\n",
    "    sh=int(s[0])\n",
    "    sm=int(s[1])\n",
    "    eh=int(s[2])\n",
    "    em=int(s[3])\n",
    "    startminutes=(sh*60)+sm\n",
    "    endminutes=(eh*60)+em\n",
    "    return endminutes-startminutes # till here we find time difference in minutes, now we he convert to hh mm\n",
    "def outputtimeformat(minutes):\n",
    "    hh=minutes//60 # converts to minutes \n",
    "    mm=minutes%60 # to convert minutes\n",
    "    print(hh,mm)\n",
    "    return\n",
    "minutes=minutedifference(s)\n",
    "outputtimeformat(minutes)"
   ]
  },
  {
   "cell_type": "code",
   "execution_count": 24,
   "id": "c1f28cc5",
   "metadata": {},
   "outputs": [
    {
     "name": "stdout",
     "output_type": "stream",
     "text": [
      "enter a number=789\n",
      "sum of digits= 24\n"
     ]
    }
   ],
   "source": [
    "#function to find the sum of the digits in a given nuber\n",
    "\n",
    "n=int(input(\"enter a number=\"))\n",
    "#n.split()\n",
    "#sum=0\n",
    "def sumofdigits(n):\n",
    "    sum=0\n",
    "    while n!=0:\n",
    "        rem= n%10\n",
    "        sum=sum+rem\n",
    "        n=n//10\n",
    "    print(\"sum of digits=\",sum)\n",
    "sumofdigits(n)\n",
    "        \n",
    "\n"
   ]
  },
  {
   "cell_type": "code",
   "execution_count": 14,
   "id": "9ee605c8",
   "metadata": {},
   "outputs": [
    {
     "name": "stdout",
     "output_type": "stream",
     "text": [
      "Enter a Number=576\n",
      "sum of digits of 576= 18\n"
     ]
    }
   ],
   "source": [
    "#sum of digits of a given numbers\n",
    "\n",
    "num=input(\"Enter a Number=\")\n",
    "\n",
    "def sumofdigits(num):\n",
    "    sum=0\n",
    "    for digit in num:\n",
    "        sum=sum+int(digit)\n",
    "    print(\"sum of digits of {}=\".format(num),sum)\n",
    "sumofdigits(num)\n"
   ]
  },
  {
   "cell_type": "code",
   "execution_count": 14,
   "id": "9ba99252",
   "metadata": {},
   "outputs": [
    {
     "name": "stdout",
     "output_type": "stream",
     "text": [
      "12 13 76 78 4\n",
      "179\n",
      "average of array= 44.75\n"
     ]
    }
   ],
   "source": [
    "from array import *\n",
    "\n",
    "k =array('I',[12,-13,76,78])\n",
    "count=0\n",
    "sum=0\n",
    "for i in range(len(k)):\n",
    "    print(k[i],end=\" \")\n",
    "    count=count+1\n",
    "    sum=sum+k[i]\n",
    "print(count)\n",
    "print(sum)\n",
    "print(\"average of array=\",sum/count)\n",
    "\n",
    "\n"
   ]
  },
  {
   "cell_type": "code",
   "execution_count": 1,
   "id": "3ab98aa0",
   "metadata": {},
   "outputs": [
    {
     "name": "stdout",
     "output_type": "stream",
     "text": [
      "Enter a number:267\n",
      "7 is not divisible by 3\n"
     ]
    }
   ],
   "source": [
    "num=int(input(\"Enter a number:\"))\n",
    "last_digit=num%10\n",
    "if(last_digit%3==0):\n",
    "    print(\"{} is divisible by 3 \".format(last_digit))\n",
    "else:\n",
    "    print(\"{} is not divisible by 3\".format(last_digit))\n"
   ]
  },
  {
   "cell_type": "code",
   "execution_count": 28,
   "id": "959eb700",
   "metadata": {},
   "outputs": [
    {
     "name": "stdout",
     "output_type": "stream",
     "text": [
      "<class 'list'>\n",
      " [6, 4, 5, 7, 8, 9, 43, 87, 9] is a set of list of nos are \n"
     ]
    }
   ],
   "source": [
    "p=[6,4,5,7,8,9]\n",
    "s=[43,87,9]\n",
    "#print(type(p))\n",
    "print(\" {} is a set of list of nos are \".format(p+s))"
   ]
  },
  {
   "cell_type": "code",
   "execution_count": 11,
   "id": "c8c60c68",
   "metadata": {},
   "outputs": [
    {
     "name": "stdout",
     "output_type": "stream",
     "text": [
      "5 is not disible by 3\n"
     ]
    }
   ],
   "source": [
    "Z=4645\n",
    "l=Z%10\n",
    "if l%3==0:\n",
    "    print(\"{} is divisible by 3\".format(l))\n",
    "else:\n",
    "    print(\"{} is not disible by 3\".format(l))"
   ]
  },
  {
   "cell_type": "code",
   "execution_count": 3,
   "id": "fc79ca39",
   "metadata": {},
   "outputs": [
    {
     "name": "stdout",
     "output_type": "stream",
     "text": [
      "No\n"
     ]
    }
   ],
   "source": [
    "#Given an array arr[] of size N consisting of non-zero positive integers. \n",
    "#The task is to determine whether the number that is formed by selecting the last digits of all the numbers \n",
    "#is divisible by 10 or not. If the number is divisible by 10, then print Yes otherwise print No.\n",
    "\n",
    "from array import *\n",
    "\n",
    "# Python3 implementation of the approach\n",
    "\n",
    "# Function that returns true if the\n",
    "# number formed by the last digits of\n",
    "# all the elements is divisible by 10\n",
    "def isDivisible(arr, n) :\n",
    "\n",
    "# Last digit of the last element\n",
    "    lastDigit = arr[n - 1] % 10;\n",
    "\n",
    "    # Number formed will be divisible by 10\n",
    "    if (lastDigit == 0) :\n",
    "        return True;\n",
    "\n",
    "    return False;\n",
    "\n",
    "# Driver code\n",
    "if __name__ == \"__main__\" :\n",
    "\n",
    "    arr = [ 12, 65, 46, 37, 99 ];\n",
    "    n = len(arr);\n",
    "\n",
    "    if (isDivisible(arr, n)) :\n",
    "        print(\"Yes\");\n",
    "    else :\n",
    "        print(\"No\");\n",
    "\n",
    "# This code is contributed by AnkitRai01\n",
    "n = input()                            ## is the correct code for above problem\n",
    "\n",
    "x = list(map(int, input(n).split()))    \n",
    "\n",
    "if x[n-1]%10==0:\n",
    "    print(\"Yes\")\n",
    "else:\n",
    "    print(\"No\")"
   ]
  },
  {
   "cell_type": "code",
   "execution_count": 1,
   "id": "564437bd",
   "metadata": {},
   "outputs": [
    {
     "name": "stdout",
     "output_type": "stream",
     "text": [
      "Enter a no to check prime=14\n"
     ]
    },
    {
     "data": {
      "text/plain": [
       "'14 is not a  prime number'"
      ]
     },
     "execution_count": 1,
     "metadata": {},
     "output_type": "execute_result"
    }
   ],
   "source": [
    "num=int(input(\"Enter a no to check prime=\"))\n",
    "def isprime(num):\n",
    "    if num>1:\n",
    "        for i in range(2,num):\n",
    "            if num%i==0:\n",
    "                return (\"{} is not a  prime number\".format(num))\n",
    "        else:\n",
    "            print(\"{} is a prime number\".format(num))\n",
    "isprime(num)\n",
    "        "
   ]
  },
  {
   "cell_type": "code",
   "execution_count": 9,
   "id": "4a256452",
   "metadata": {},
   "outputs": [
    {
     "name": "stdout",
     "output_type": "stream",
     "text": [
      "20\n",
      "2 3 5 7 11 13 17 19 8 =is the count of prime numbers\n",
      "77 is the sum of prime numbers\n"
     ]
    }
   ],
   "source": [
    "n=int(input())\n",
    "def primenumber(n):\n",
    "    count=0\n",
    "    sum=0\n",
    "    for n in range(2,n+1):\n",
    "        for i in range(2,n):\n",
    "            if n%i==0:\n",
    "                break\n",
    "        else:\n",
    "            print(n,end=\" \")\n",
    "            count+=1\n",
    "            sum+=n\n",
    "    print(count,\"=is the count of prime numbers\")\n",
    "    print(sum,\"is the sum of prime numbers\")\n",
    "primenumber(n)\n",
    "        "
   ]
  },
  {
   "cell_type": "code",
   "execution_count": 14,
   "id": "7b7eb141",
   "metadata": {},
   "outputs": [
    {
     "ename": "NameError",
     "evalue": "name 'n' is not defined",
     "output_type": "error",
     "traceback": [
      "\u001b[1;31m---------------------------------------------------------------------------\u001b[0m",
      "\u001b[1;31mNameError\u001b[0m                                 Traceback (most recent call last)",
      "\u001b[1;32m~\\AppData\\Local\\Temp/ipykernel_7964/3115158346.py\u001b[0m in \u001b[0;36m<module>\u001b[1;34m\u001b[0m\n\u001b[0;32m      6\u001b[0m         \u001b[1;32mreturn\u001b[0m \u001b[1;32mTrue\u001b[0m\u001b[1;33m\u001b[0m\u001b[1;33m\u001b[0m\u001b[0m\n\u001b[0;32m      7\u001b[0m     \u001b[1;32mreturn\u001b[0m \u001b[1;32mFalse\u001b[0m\u001b[1;33m\u001b[0m\u001b[1;33m\u001b[0m\u001b[0m\n\u001b[1;32m----> 8\u001b[1;33m \u001b[0misdivisible\u001b[0m\u001b[1;33m(\u001b[0m\u001b[0mx\u001b[0m\u001b[1;33m,\u001b[0m\u001b[0mn\u001b[0m\u001b[1;33m)\u001b[0m\u001b[1;33m\u001b[0m\u001b[1;33m\u001b[0m\u001b[0m\n\u001b[0m",
      "\u001b[1;31mNameError\u001b[0m: name 'n' is not defined"
     ]
    }
   ],
   "source": [
    "from array import *\n",
    "x=array('I',[1,5,9,4,60])\n",
    "def isdivisible(x,n):\n",
    "    lastdigit=x[n-1]%10\n",
    "    if (lastdigit==0):\n",
    "        return True\n",
    "    return False\n",
    "isdivisible(x,n)"
   ]
  },
  {
   "cell_type": "code",
   "execution_count": 11,
   "id": "72c49d1a",
   "metadata": {},
   "outputs": [
    {
     "name": "stdout",
     "output_type": "stream",
     "text": [
      "i\n"
     ]
    },
    {
     "data": {
      "text/plain": [
       "4.5"
      ]
     },
     "execution_count": 11,
     "metadata": {},
     "output_type": "execute_result"
    }
   ],
   "source": [
    "from array import *\n",
    "z=array('i',[12,13,14,-15,20])\n",
    "print(z.typecode)\n",
    "(9**1/2)"
   ]
  },
  {
   "cell_type": "code",
   "execution_count": null,
   "id": "867a6a40",
   "metadata": {},
   "outputs": [],
   "source": [
    "n = input()\n",
    "\n",
    "x = list(map(int, input(n).split()))\n",
    "\n",
    "if x[n-1]%10==0:\n",
    "    print(\"Yes\")\n",
    "else:\n",
    "    print(\"No\")"
   ]
  },
  {
   "cell_type": "code",
   "execution_count": 38,
   "id": "78db20c3",
   "metadata": {},
   "outputs": [
    {
     "name": "stdout",
     "output_type": "stream",
     "text": [
      "12.45\n",
      "5 is the length of  12.45\n"
     ]
    }
   ],
   "source": [
    "x=\n",
    "y=len(x)\n",
    "print(\"{} is the length of \".format(y),x)"
   ]
  },
  {
   "cell_type": "code",
   "execution_count": 47,
   "id": "11a4add3",
   "metadata": {},
   "outputs": [
    {
     "ename": "SyntaxError",
     "evalue": "invalid syntax (Temp/ipykernel_7964/3419568784.py, line 6)",
     "output_type": "error",
     "traceback": [
      "\u001b[1;36m  File \u001b[1;32m\"C:\\Users\\prasanth\\AppData\\Local\\Temp/ipykernel_7964/3419568784.py\"\u001b[1;36m, line \u001b[1;32m6\u001b[0m\n\u001b[1;33m    if i == int(n[]):\u001b[0m\n\u001b[1;37m                  ^\u001b[0m\n\u001b[1;31mSyntaxError\u001b[0m\u001b[1;31m:\u001b[0m invalid syntax\n"
     ]
    }
   ],
   "source": [
    "n=\"2344\"\n",
    "n=n.split()\n",
    "def noofdigits(n):\n",
    "    count=0\n",
    "    for i in range(1,n+1):\n",
    "        if i == :\n",
    "            count+=1\n",
    "            \n",
    "            return count\n",
    "noofdigits(n)"
   ]
  },
  {
   "cell_type": "code",
   "execution_count": null,
   "id": "87f6f401",
   "metadata": {},
   "outputs": [],
   "source": [
    "n=int(input(\"Enter number:\"))\n",
    "count=0\n",
    "\n",
    "while(n>0):\n",
    "    count=count+1\n",
    "    #n=n//10\n",
    "print(\"The number of digits in the number are:\",count)"
   ]
  },
  {
   "cell_type": "code",
   "execution_count": null,
   "id": "b5be9857",
   "metadata": {},
   "outputs": [],
   "source": []
  }
 ],
 "metadata": {
  "kernelspec": {
   "display_name": "Python 3 (ipykernel)",
   "language": "python",
   "name": "python3"
  },
  "language_info": {
   "codemirror_mode": {
    "name": "ipython",
    "version": 3
   },
   "file_extension": ".py",
   "mimetype": "text/x-python",
   "name": "python",
   "nbconvert_exporter": "python",
   "pygments_lexer": "ipython3",
   "version": "3.9.7"
  }
 },
 "nbformat": 4,
 "nbformat_minor": 5
}
